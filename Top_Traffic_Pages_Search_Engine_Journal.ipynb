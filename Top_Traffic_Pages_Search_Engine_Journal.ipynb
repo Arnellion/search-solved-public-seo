{
  "nbformat": 4,
  "nbformat_minor": 0,
  "metadata": {
    "colab": {
      "name": "Top Traffic Pages Search Console API - Brighton SEO or Search Engine Journal.ipynb",
      "provenance": [],
      "collapsed_sections": [],
      "authorship_tag": "ABX9TyPAjIgH5f9GCdjjGvUxdP1y",
      "include_colab_link": true
    },
    "kernelspec": {
      "name": "python3",
      "display_name": "Python 3"
    },
    "language_info": {
      "name": "python"
    }
  },
  "cells": [
    {
      "cell_type": "markdown",
      "metadata": {
        "id": "view-in-github",
        "colab_type": "text"
      },
      "source": [
        "<a href=\"https://colab.research.google.com/github/searchsolved/search-solved-public-seo/blob/main/Top_Traffic_Pages_Search_Engine_Journal.ipynb\" target=\"_parent\"><img src=\"https://colab.research.google.com/assets/colab-badge.svg\" alt=\"Open In Colab\"/></a>"
      ]
    },
    {
      "cell_type": "markdown",
      "source": [
        "# Find Top Traffic Pages Using Python by LeeFootSEO\n",
        "## Run All Cells (Runtime > Run All) or press Control + F9\n",
        "\n",
        "**For more of this stuff:**\n",
        "\n",
        "Twitter: https://twitter.com/LeeFootSEO\n",
        "\n",
        "Patreon (Beta Testing & Early Access):  https://www.patreon.com/leefootseo\n"
      ],
      "metadata": {
        "id": "GasoUgeiOpmu"
      }
    },
    {
      "cell_type": "code",
      "metadata": {
        "colab": {
          "base_uri": "https://localhost:8080/"
        },
        "id": "hjW6LtNjVBsv",
        "outputId": "9bcb3e20-5471-487b-f710-1dedca8045f0"
      },
      "source": [
        "!pip install pandas\n",
        "!pip install git+https://github.com/joshcarty/google-searchconsole\n",
        "!pip install plotly==5.0.0\n",
        "!pip install xlsxwriter"
      ],
      "execution_count": null,
      "outputs": [
        {
          "output_type": "stream",
          "name": "stdout",
          "text": [
            "Looking in indexes: https://pypi.org/simple, https://us-python.pkg.dev/colab-wheels/public/simple/\n",
            "Requirement already satisfied: pandas in /usr/local/lib/python3.7/dist-packages (1.3.5)\n",
            "Requirement already satisfied: python-dateutil>=2.7.3 in /usr/local/lib/python3.7/dist-packages (from pandas) (2.8.2)\n",
            "Requirement already satisfied: pytz>=2017.3 in /usr/local/lib/python3.7/dist-packages (from pandas) (2022.1)\n",
            "Requirement already satisfied: numpy>=1.17.3 in /usr/local/lib/python3.7/dist-packages (from pandas) (1.21.6)\n",
            "Requirement already satisfied: six>=1.5 in /usr/local/lib/python3.7/dist-packages (from python-dateutil>=2.7.3->pandas) (1.15.0)\n",
            "Looking in indexes: https://pypi.org/simple, https://us-python.pkg.dev/colab-wheels/public/simple/\n",
            "Collecting git+https://github.com/joshcarty/google-searchconsole\n",
            "  Cloning https://github.com/joshcarty/google-searchconsole to /tmp/pip-req-build-3aitwnbl\n",
            "  Running command git clone -q https://github.com/joshcarty/google-searchconsole /tmp/pip-req-build-3aitwnbl\n",
            "Requirement already satisfied: google-api-python-client>=1.7.3 in /usr/local/lib/python3.7/dist-packages (from searchconsole==0.0.3) (1.12.11)\n",
            "Requirement already satisfied: python-dateutil>=2.7.3 in /usr/local/lib/python3.7/dist-packages (from searchconsole==0.0.3) (2.8.2)\n",
            "Requirement already satisfied: google-auth<2dev,>=1.5.0 in /usr/local/lib/python3.7/dist-packages (from searchconsole==0.0.3) (1.35.0)\n",
            "Requirement already satisfied: google-auth-oauthlib>=0.2.0 in /usr/local/lib/python3.7/dist-packages (from searchconsole==0.0.3) (0.4.6)\n",
            "Requirement already satisfied: httplib2<1dev,>=0.15.0 in /usr/local/lib/python3.7/dist-packages (from google-api-python-client>=1.7.3->searchconsole==0.0.3) (0.17.4)\n",
            "Requirement already satisfied: google-api-core<3dev,>=1.21.0 in /usr/local/lib/python3.7/dist-packages (from google-api-python-client>=1.7.3->searchconsole==0.0.3) (1.31.6)\n",
            "Requirement already satisfied: uritemplate<4dev,>=3.0.0 in /usr/local/lib/python3.7/dist-packages (from google-api-python-client>=1.7.3->searchconsole==0.0.3) (3.0.1)\n",
            "Requirement already satisfied: six<2dev,>=1.13.0 in /usr/local/lib/python3.7/dist-packages (from google-api-python-client>=1.7.3->searchconsole==0.0.3) (1.15.0)\n",
            "Requirement already satisfied: google-auth-httplib2>=0.0.3 in /usr/local/lib/python3.7/dist-packages (from google-api-python-client>=1.7.3->searchconsole==0.0.3) (0.0.4)\n",
            "Requirement already satisfied: googleapis-common-protos<2.0dev,>=1.6.0 in /usr/local/lib/python3.7/dist-packages (from google-api-core<3dev,>=1.21.0->google-api-python-client>=1.7.3->searchconsole==0.0.3) (1.56.4)\n",
            "Requirement already satisfied: protobuf<4.0.0dev,>=3.12.0 in /usr/local/lib/python3.7/dist-packages (from google-api-core<3dev,>=1.21.0->google-api-python-client>=1.7.3->searchconsole==0.0.3) (3.17.3)\n",
            "Requirement already satisfied: requests<3.0.0dev,>=2.18.0 in /usr/local/lib/python3.7/dist-packages (from google-api-core<3dev,>=1.21.0->google-api-python-client>=1.7.3->searchconsole==0.0.3) (2.23.0)\n",
            "Requirement already satisfied: packaging>=14.3 in /usr/local/lib/python3.7/dist-packages (from google-api-core<3dev,>=1.21.0->google-api-python-client>=1.7.3->searchconsole==0.0.3) (21.3)\n",
            "Requirement already satisfied: pytz in /usr/local/lib/python3.7/dist-packages (from google-api-core<3dev,>=1.21.0->google-api-python-client>=1.7.3->searchconsole==0.0.3) (2022.1)\n",
            "Requirement already satisfied: setuptools>=40.3.0 in /usr/local/lib/python3.7/dist-packages (from google-api-core<3dev,>=1.21.0->google-api-python-client>=1.7.3->searchconsole==0.0.3) (57.4.0)\n",
            "Requirement already satisfied: rsa<5,>=3.1.4 in /usr/local/lib/python3.7/dist-packages (from google-auth<2dev,>=1.5.0->searchconsole==0.0.3) (4.9)\n",
            "Requirement already satisfied: pyasn1-modules>=0.2.1 in /usr/local/lib/python3.7/dist-packages (from google-auth<2dev,>=1.5.0->searchconsole==0.0.3) (0.2.8)\n",
            "Requirement already satisfied: cachetools<5.0,>=2.0.0 in /usr/local/lib/python3.7/dist-packages (from google-auth<2dev,>=1.5.0->searchconsole==0.0.3) (4.2.4)\n",
            "Requirement already satisfied: requests-oauthlib>=0.7.0 in /usr/local/lib/python3.7/dist-packages (from google-auth-oauthlib>=0.2.0->searchconsole==0.0.3) (1.3.1)\n",
            "Requirement already satisfied: pyparsing!=3.0.5,>=2.0.2 in /usr/local/lib/python3.7/dist-packages (from packaging>=14.3->google-api-core<3dev,>=1.21.0->google-api-python-client>=1.7.3->searchconsole==0.0.3) (3.0.9)\n",
            "Requirement already satisfied: pyasn1<0.5.0,>=0.4.6 in /usr/local/lib/python3.7/dist-packages (from pyasn1-modules>=0.2.1->google-auth<2dev,>=1.5.0->searchconsole==0.0.3) (0.4.8)\n",
            "Requirement already satisfied: urllib3!=1.25.0,!=1.25.1,<1.26,>=1.21.1 in /usr/local/lib/python3.7/dist-packages (from requests<3.0.0dev,>=2.18.0->google-api-core<3dev,>=1.21.0->google-api-python-client>=1.7.3->searchconsole==0.0.3) (1.24.3)\n",
            "Requirement already satisfied: chardet<4,>=3.0.2 in /usr/local/lib/python3.7/dist-packages (from requests<3.0.0dev,>=2.18.0->google-api-core<3dev,>=1.21.0->google-api-python-client>=1.7.3->searchconsole==0.0.3) (3.0.4)\n",
            "Requirement already satisfied: idna<3,>=2.5 in /usr/local/lib/python3.7/dist-packages (from requests<3.0.0dev,>=2.18.0->google-api-core<3dev,>=1.21.0->google-api-python-client>=1.7.3->searchconsole==0.0.3) (2.10)\n",
            "Requirement already satisfied: certifi>=2017.4.17 in /usr/local/lib/python3.7/dist-packages (from requests<3.0.0dev,>=2.18.0->google-api-core<3dev,>=1.21.0->google-api-python-client>=1.7.3->searchconsole==0.0.3) (2022.6.15)\n",
            "Requirement already satisfied: oauthlib>=3.0.0 in /usr/local/lib/python3.7/dist-packages (from requests-oauthlib>=0.7.0->google-auth-oauthlib>=0.2.0->searchconsole==0.0.3) (3.2.0)\n",
            "Building wheels for collected packages: searchconsole\n",
            "  Building wheel for searchconsole (setup.py) ... \u001b[?25l\u001b[?25hdone\n",
            "  Created wheel for searchconsole: filename=searchconsole-0.0.3-py3-none-any.whl size=8925 sha256=0032a3efa58cb1445a72ed1fa68e1429d4d824c52a1762edeae86bc4b0b4f829\n",
            "  Stored in directory: /tmp/pip-ephem-wheel-cache-mbycn0v4/wheels/c0/54/65/805cab909323977d11a22ab51aca484859347ee6a5fc8e2fef\n",
            "Successfully built searchconsole\n",
            "Installing collected packages: searchconsole\n",
            "Successfully installed searchconsole-0.0.3\n",
            "Looking in indexes: https://pypi.org/simple, https://us-python.pkg.dev/colab-wheels/public/simple/\n",
            "Collecting plotly==5.0.0\n",
            "  Downloading plotly-5.0.0-py2.py3-none-any.whl (19.1 MB)\n",
            "\u001b[K     |████████████████████████████████| 19.1 MB 3.4 MB/s \n",
            "\u001b[?25hRequirement already satisfied: six in /usr/local/lib/python3.7/dist-packages (from plotly==5.0.0) (1.15.0)\n",
            "Requirement already satisfied: tenacity>=6.2.0 in /usr/local/lib/python3.7/dist-packages (from plotly==5.0.0) (8.0.1)\n",
            "Installing collected packages: plotly\n",
            "  Attempting uninstall: plotly\n",
            "    Found existing installation: plotly 5.5.0\n",
            "    Uninstalling plotly-5.5.0:\n",
            "      Successfully uninstalled plotly-5.5.0\n",
            "Successfully installed plotly-5.0.0\n"
          ]
        }
      ]
    },
    {
      "cell_type": "code",
      "metadata": {
        "id": "tLtC9_eYU3Ho"
      },
      "source": [
        "# import the libraries\n",
        "import xlsxwriter\n",
        "import json\n",
        "import sys\n",
        "import pandas as pd\n",
        "import searchconsole\n",
        "from googleapiclient.discovery import build\n",
        "from urllib import request\n",
        "from bs4 import BeautifulSoup\n",
        "from google.colab import files\n",
        "import sys\n",
        "from datetime import date\n",
        "import datetime\n",
        "from dateutil.relativedelta import relativedelta\n",
        "import plotly.graph_objects as go\n",
        "today = datetime.date.today()"
      ],
      "execution_count": null,
      "outputs": []
    },
    {
      "cell_type": "code",
      "metadata": {
        "colab": {
          "resources": {
            "http://localhost:8080/nbextensions/google.colab/files.js": {
              "data": "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",
              "ok": true,
              "headers": [
                [
                  "content-type",
                  "application/javascript"
                ]
              ],
              "status": 200,
              "status_text": ""
            }
          },
          "base_uri": "https://localhost:8080/",
          "height": 74
        },
        "id": "sx6xaW3_WHCw",
        "outputId": "cbd138ac-236b-441d-8842-5db460e13c2c"
      },
      "source": [
        "# upload client_id.json\n",
        "names = files.upload()"
      ],
      "execution_count": null,
      "outputs": [
        {
          "output_type": "display_data",
          "data": {
            "text/plain": [
              "<IPython.core.display.HTML object>"
            ],
            "text/html": [
              "\n",
              "     <input type=\"file\" id=\"files-a6879e9e-cbf7-4851-9b77-602ca1b02ffe\" name=\"files[]\" multiple disabled\n",
              "        style=\"border:none\" />\n",
              "     <output id=\"result-a6879e9e-cbf7-4851-9b77-602ca1b02ffe\">\n",
              "      Upload widget is only available when the cell has been executed in the\n",
              "      current browser session. Please rerun this cell to enable.\n",
              "      </output>\n",
              "      <script src=\"/nbextensions/google.colab/files.js\"></script> "
            ]
          },
          "metadata": {}
        },
        {
          "output_type": "stream",
          "name": "stdout",
          "text": [
            "Saving client_secrets.json to client_secrets (2).json\n"
          ]
        }
      ]
    },
    {
      "cell_type": "code",
      "metadata": {
        "colab": {
          "base_uri": "https://localhost:8080/"
        },
        "id": "QThVyJPnVECp",
        "outputId": "f141b26d-8b19-415a-efe1-e0b64fc8ad72"
      },
      "source": [
        "filename=list(names.keys())[0]  # get the name of the uploaded file\n",
        "account = searchconsole.authenticate(client_config=filename, serialize='credentials.json', flow=\"console\")"
      ],
      "execution_count": null,
      "outputs": [
        {
          "name": "stdout",
          "output_type": "stream",
          "text": [
            "Please visit this URL to authorize this application: https://accounts.google.com/o/oauth2/auth?response_type=code&client_id=158373752154-17ek6obhi20i05iae25k1a7b3gdbt4if.apps.googleusercontent.com&redirect_uri=urn%3Aietf%3Awg%3Aoauth%3A2.0%3Aoob&scope=https%3A%2F%2Fwww.googleapis.com%2Fauth%2Fwebmasters.readonly&state=cwssV2YFDJFwlH9IOI0kw498FaL0ak&prompt=consent&access_type=offline\n",
            "Enter the authorization code: 4/1AdQt8qjU5ZsywjR_HazV56WS9wLl9xw9JSsKzSHN98sgeU_K1pXb_wGaQ34\n"
          ]
        }
      ]
    },
    {
      "cell_type": "code",
      "metadata": {
        "id": "O2IyF66SW09O"
      },
      "source": [
        "# Set GSC Variables Here:\n",
        "country_filter = \"gbr\"\n",
        "url = \"https://www.doorsuperstore.co.uk/\" # Must match the url displayed in SC exactly. If you're having issues, it's usually missing a training slash!\n",
        "start_date = \"2022-05-01\"  # Example formatting: '2020-09-20'\n",
        "end_date = \"2022-08-01\""
      ],
      "execution_count": null,
      "outputs": []
    },
    {
      "cell_type": "code",
      "metadata": {
        "colab": {
          "base_uri": "https://localhost:8080/"
        },
        "id": "nHfIVTaaW97e",
        "outputId": "d180092c-17e5-4994-a00e-ad3f682a0437"
      },
      "source": [
        "# Assign values to dimension variables\n",
        "dimension_1 = \"query\"  # get keyword data from Search Console\n",
        "dimension_2 = \"page\"  # get URL data from Search Console\n",
        "dimension_3 = \"country\"  # get country data from Search Console\n",
        "dimension_4 = \"device\"  # Get device data from Search Console\n",
        "\n",
        "try:\n",
        "    print(\"Reading client_secrets.json & credentials.json..\")  # Authenticate with GSC\n",
        "    account = searchconsole.authenticate(\n",
        "        client_config = filename,\n",
        "        credentials = 'credentials.json',\n",
        "    )\n",
        "    webproperty = account[(url)]  # Connect to the GSC property\n",
        "    print(\"Pulling GSC Data. Please Be Patient!\")\n",
        "    gsc_data = (\n",
        "        webproperty.query.range(start_date, end_date)\n",
        "            .dimension(\n",
        "            dimension_1,\n",
        "            dimension_2,\n",
        "            dimension_3,\n",
        "            # dimension_4,  # Dimensions can be commented out, like this one.\n",
        "        )\n",
        "            .get()\n",
        "    )\n",
        "except AttributeError:\n",
        "    print(\"No Data Received from Search Console API!\")\n",
        "    sys.exit(1)\n",
        "print(\"\\nGSC Data Pull Complete!\")"
      ],
      "execution_count": null,
      "outputs": [
        {
          "output_type": "stream",
          "name": "stdout",
          "text": [
            "Reading client_secrets.json & credentials.json..\n",
            "Pulling GSC Data. Please Be Patient!\n",
            "\n",
            "GSC Data Pull Complete!\n"
          ]
        }
      ]
    },
    {
      "cell_type": "code",
      "metadata": {
        "colab": {
          "base_uri": "https://localhost:8080/"
        },
        "id": "1y52nsRUXBjO",
        "outputId": "e73661f1-3eb5-4abb-8cb0-e1b9c90010fc"
      },
      "source": [
        "# make the GSC dataframe\n",
        "df_gsc = pd.DataFrame(gsc_data)\n",
        "print(df_gsc.head(10))"
      ],
      "execution_count": null,
      "outputs": [
        {
          "output_type": "stream",
          "name": "stdout",
          "text": [
            "                       query  \\\n",
            "0             external doors   \n",
            "1            door superstore   \n",
            "2                  shed door   \n",
            "3                 shed doors   \n",
            "4             interior doors   \n",
            "5         wooden front doors   \n",
            "6          internal doors uk   \n",
            "7  internal doors with glass   \n",
            "8          wooden front door   \n",
            "9             internal doors   \n",
            "\n",
            "                                                page country  clicks  \\\n",
            "0  https://www.doorsuperstore.co.uk/browse/extern...     gbr    2142   \n",
            "1                  https://www.doorsuperstore.co.uk/     gbr    1250   \n",
            "2  https://www.doorsuperstore.co.uk/browse/extern...     gbr    1145   \n",
            "3  https://www.doorsuperstore.co.uk/browse/extern...     gbr    1011   \n",
            "4  https://www.doorsuperstore.co.uk/browse/intern...     gbr     751   \n",
            "5  https://www.doorsuperstore.co.uk/browse/extern...     gbr     557   \n",
            "6  https://www.doorsuperstore.co.uk/browse/intern...     gbr     540   \n",
            "7  https://www.doorsuperstore.co.uk/browse/intern...     gbr     533   \n",
            "8  https://www.doorsuperstore.co.uk/browse/extern...     gbr     470   \n",
            "9  https://www.doorsuperstore.co.uk/browse/intern...     gbr     468   \n",
            "\n",
            "   impressions       ctr   position  \n",
            "0        26112  0.082031   2.735371  \n",
            "1         6740  0.185460   1.036944  \n",
            "2         9422  0.121524   1.029824  \n",
            "3         7636  0.132399   1.106731  \n",
            "4        47377  0.015852   9.811829  \n",
            "5         7185  0.077523   3.488657  \n",
            "6         7624  0.070829   3.583027  \n",
            "7        24987  0.021331   8.103894  \n",
            "8         4813  0.097652   1.774361  \n",
            "9        35541  0.013168  12.644270  \n"
          ]
        }
      ]
    },
    {
      "cell_type": "code",
      "metadata": {
        "id": "G4HYVCLEZpBv"
      },
      "source": [
        "    # Clean and Refine the Data\n",
        "    df_gsc = df_gsc[df_gsc[\"country\"].str.contains(country_filter)]\n",
        "    df_gsc = df_gsc.sort_values(by=\"clicks\", ascending=False)"
      ],
      "execution_count": null,
      "outputs": []
    },
    {
      "cell_type": "code",
      "metadata": {
        "id": "B2Cc4oD9ZrTP"
      },
      "source": [
        "# ------------------------------------ calculate stats -----------------------------------------------------------------\n",
        "\n",
        "df_gsc['no_kws_page_ranks_for'] = df_gsc['page'].map(df_gsc.groupby('page')['page'].count())\n",
        "rows = len(df_gsc)\n",
        "df_gsc['percent_kws_page_ranks_for'] = (df_gsc['no_kws_page_ranks_for'] / rows * 100).round(2)\n",
        "\n",
        "df_gsc.fillna({\"impressions\": 0, \"clicks\": 0, \"position\": 0}, inplace=True)\n",
        "df_gsc = df_gsc.astype({\"impressions\": int, \"clicks\": int, \"position\": int})\n",
        "df_gsc['total_clicks_page'] = df_gsc['clicks'].groupby(df_gsc['page']).transform('sum')\n",
        "df_gsc['total_page_imps_percent'] = df_gsc['impressions'].groupby(df_gsc['page']).transform('sum')\n",
        "df_gsc['mean_ctr'] = df_gsc['ctr'].groupby(df_gsc['page']).transform('mean')\n",
        "df_gsc['mean_position'] = df_gsc['position'].groupby(df_gsc['page']).transform('mean')\n",
        "df_gsc['total_page_clicks_percent'] = (df_gsc['total_clicks_page'] / sum(df_gsc['clicks']) * 100).round(2)\n",
        "df_gsc['page_percent_imps'] = (df_gsc['total_page_imps_percent'] / sum(df_gsc['impressions']) * 100).round(2)\n",
        "df_gsc['mean_ctr'] = df_gsc['mean_ctr']* 100\n",
        "df_gsc['ctr'] = df_gsc['ctr']* 100\n",
        "df_gsc = df_gsc.round(2)"
      ],
      "execution_count": null,
      "outputs": []
    },
    {
      "cell_type": "code",
      "metadata": {
        "id": "usMl8WmGeTvJ",
        "colab": {
          "base_uri": "https://localhost:8080/"
        },
        "outputId": "77d076b9-53e4-4747-9bad-2b3866c00eeb"
      },
      "source": [
        "# make stat summary dataframe \n",
        "\n",
        "df_gsc_stat = df_gsc.copy()\n",
        "\n",
        "cols = (\n",
        "    \"check_date\",\n",
        "    \"page\",\n",
        "    \"no_kws_page_ranks_for\",\n",
        "    \"percent_kws_page_ranks_for\",\n",
        "    \"total_clicks_page\",\n",
        "    \"total_page_imps_percent\",\n",
        "    \"mean_ctr\",\n",
        "    \"mean_position\",\n",
        "    \"total_page_clicks_percent\",\n",
        "    \"page_percent_imps\",\n",
        "\n",
        ")\n",
        "\n",
        "df_gsc_stat = df_gsc_stat.reindex(columns=cols)\n",
        "df_gsc_stat = df_gsc_stat.sort_values(by=\"total_page_clicks_percent\", ascending=False)\n",
        "df_gsc_stat.drop_duplicates(subset=['page'], keep=\"first\", inplace=True)\n",
        "df_gsc_stat['check_date'] = str(today)\n",
        "df_gsc_stat = df_gsc_stat.round(2)\n",
        "\n",
        "df_gsc_stat[\"total_clicks_page\"] = df_gsc_stat[\"total_clicks_page\"].astype(int)\n",
        "\n",
        "\"\"\"traffic ranges simplified as int so that the bar chart is generated in the \n",
        "correct order. They are renamed after the graph is generated\"\"\"\n",
        "\n",
        "df_gsc_stat.loc[df_gsc_stat[\"total_clicks_page\"] == 0, \"traffic_range\"] = 0\n",
        "df_gsc_stat.loc[df_gsc_stat[\"total_clicks_page\"].between(1, 100, inclusive=True), \"traffic_range\"] = 1\n",
        "df_gsc_stat.loc[df_gsc_stat[\"total_clicks_page\"].between(101, 1000, inclusive=True), \"traffic_range\"] = 2\n",
        "df_gsc_stat.loc[df_gsc_stat[\"total_clicks_page\"].between(1001, 5000, inclusive=True), \"traffic_range\"] = 3\n",
        "df_gsc_stat.loc[df_gsc_stat[\"total_clicks_page\"].between(5001, 10000, inclusive=True), \"traffic_range\"] = 4\n",
        "df_gsc_stat.loc[df_gsc_stat[\"total_clicks_page\"].between(10001, 1000000000, inclusive=True), \"traffic_range\"] = 5\n",
        "\n",
        "df_gsc_stat.sort_values([\"total_clicks_page\"], ascending=False, inplace=True)\n",
        "all_clicks = df_gsc_stat['total_clicks_page'].sum()\n",
        "df_top_ten = df_gsc_stat.copy()\n",
        "df_top_ten = df_top_ten[:10]\n",
        "top_ten_clicks = df_top_ten['total_clicks_page'].sum()\n",
        "percent = (top_ten_clicks / all_clicks * 100).round(2)\n",
        "df_gsc_stat['top_ten_links_percentage_all_traffic'] = percent\n",
        "df_gsc_stat['no_pages'] = 1"
      ],
      "execution_count": null,
      "outputs": [
        {
          "output_type": "stream",
          "name": "stderr",
          "text": [
            "/usr/local/lib/python3.7/dist-packages/ipykernel_launcher.py:31: FutureWarning:\n",
            "\n",
            "Boolean inputs to the `inclusive` argument are deprecated infavour of `both` or `neither`.\n",
            "\n",
            "/usr/local/lib/python3.7/dist-packages/ipykernel_launcher.py:32: FutureWarning:\n",
            "\n",
            "Boolean inputs to the `inclusive` argument are deprecated infavour of `both` or `neither`.\n",
            "\n",
            "/usr/local/lib/python3.7/dist-packages/ipykernel_launcher.py:33: FutureWarning:\n",
            "\n",
            "Boolean inputs to the `inclusive` argument are deprecated infavour of `both` or `neither`.\n",
            "\n",
            "/usr/local/lib/python3.7/dist-packages/ipykernel_launcher.py:34: FutureWarning:\n",
            "\n",
            "Boolean inputs to the `inclusive` argument are deprecated infavour of `both` or `neither`.\n",
            "\n",
            "/usr/local/lib/python3.7/dist-packages/ipykernel_launcher.py:35: FutureWarning:\n",
            "\n",
            "Boolean inputs to the `inclusive` argument are deprecated infavour of `both` or `neither`.\n",
            "\n"
          ]
        }
      ]
    },
    {
      "cell_type": "code",
      "metadata": {
        "colab": {
          "base_uri": "https://localhost:8080/",
          "height": 817
        },
        "id": "5tXhagy17baS",
        "outputId": "9cf35e2e-3bab-471c-a0eb-948354092dcd"
      },
      "source": [
        "grp = df_gsc_stat.groupby(\"traffic_range\").agg({\"total_clicks_page\": \"sum\", \"no_pages\": \"sum\"}).reset_index()\n",
        "range = grp['traffic_range']\n",
        "\n",
        "fig = go.Figure(\n",
        "    data=[\n",
        "        go.Bar(name='Total Pages', x=range, y=grp['no_pages'], yaxis='y', offsetgroup=1, text = grp[\"no_pages\"]),\n",
        "        go.Bar(name='Total Clicks', x=range, y=grp['total_clicks_page'], yaxis='y2', offsetgroup=2,text = grp[\"total_clicks_page\"])\n",
        "    ],\n",
        "    layout={\n",
        "        'xaxis': {'title': 'Traffic Ranges'},\n",
        "        'yaxis': {'title': 'Total Pages'},\n",
        "        'yaxis2': {'title': 'Total Traffic', 'overlaying': 'y', 'side': 'right'}\n",
        "    }\n",
        ")\n",
        "\n",
        "# Change the bar mode\n",
        "fig.update_layout(barmode='group', height=800, width=1400)\n",
        "fig.update_xaxes(type='category', categoryorder=\"category ascending\")\n",
        "\n",
        "\n",
        "fig.update_layout(\n",
        "    xaxis = dict(\n",
        "        tickmode = 'array',\n",
        "        tickvals = [0, 1, 2, 3, 4, 5],\n",
        "        ticktext = ['No Traffic', '1-100', '101-1000', '1001-5,000', '5001-10,000', '10,001+']\n",
        "    )\n",
        ")\n",
        "\n",
        "fig.update_layout(legend = dict(font = dict(family = \"Arial\", size = 20, color = \"black\")),\n",
        "                  legend_title = dict(font = dict(family = \"Arial\", size = 20, color = \"blue\")))\n",
        "fig.show()"
      ],
      "execution_count": null,
      "outputs": [
        {
          "output_type": "display_data",
          "data": {
            "text/html": [
              "<html>\n",
              "<head><meta charset=\"utf-8\" /></head>\n",
              "<body>\n",
              "    <div>            <script src=\"https://cdnjs.cloudflare.com/ajax/libs/mathjax/2.7.5/MathJax.js?config=TeX-AMS-MML_SVG\"></script><script type=\"text/javascript\">if (window.MathJax) {MathJax.Hub.Config({SVG: {font: \"STIX-Web\"}});}</script>                <script type=\"text/javascript\">window.PlotlyConfig = {MathJaxConfig: 'local'};</script>\n",
              "        <script src=\"https://cdn.plot.ly/plotly-2.1.0.min.js\"></script>                <div id=\"ed9ee95a-79fb-4540-9c05-d280869e9625\" class=\"plotly-graph-div\" style=\"height:800px; width:1400px;\"></div>            <script type=\"text/javascript\">                                    window.PLOTLYENV=window.PLOTLYENV || {};                                    if (document.getElementById(\"ed9ee95a-79fb-4540-9c05-d280869e9625\")) {                    Plotly.newPlot(                        \"ed9ee95a-79fb-4540-9c05-d280869e9625\",                        [{\"name\":\"Total Pages\",\"offsetgroup\":\"1\",\"text\":[\"1882\",\"447\",\"56\",\"8\",\"4\"],\"type\":\"bar\",\"x\":[0.0,1.0,2.0,3.0,4.0],\"y\":[1882,447,56,8,4],\"yaxis\":\"y\"},{\"name\":\"Total Clicks\",\"offsetgroup\":\"2\",\"text\":[\"0\",\"4243\",\"18043\",\"16330\",\"24612\"],\"type\":\"bar\",\"x\":[0.0,1.0,2.0,3.0,4.0],\"y\":[0,4243,18043,16330,24612],\"yaxis\":\"y2\"}],                        {\"barmode\":\"group\",\"height\":800,\"legend\":{\"font\":{\"color\":\"black\",\"family\":\"Arial\",\"size\":20},\"title\":{\"font\":{\"color\":\"blue\",\"family\":\"Arial\",\"size\":20}}},\"template\":{\"data\":{\"bar\":[{\"error_x\":{\"color\":\"#2a3f5f\"},\"error_y\":{\"color\":\"#2a3f5f\"},\"marker\":{\"line\":{\"color\":\"#E5ECF6\",\"width\":0.5},\"pattern\":{\"fillmode\":\"overlay\",\"size\":10,\"solidity\":0.2}},\"type\":\"bar\"}],\"barpolar\":[{\"marker\":{\"line\":{\"color\":\"#E5ECF6\",\"width\":0.5},\"pattern\":{\"fillmode\":\"overlay\",\"size\":10,\"solidity\":0.2}},\"type\":\"barpolar\"}],\"carpet\":[{\"aaxis\":{\"endlinecolor\":\"#2a3f5f\",\"gridcolor\":\"white\",\"linecolor\":\"white\",\"minorgridcolor\":\"white\",\"startlinecolor\":\"#2a3f5f\"},\"baxis\":{\"endlinecolor\":\"#2a3f5f\",\"gridcolor\":\"white\",\"linecolor\":\"white\",\"minorgridcolor\":\"white\",\"startlinecolor\":\"#2a3f5f\"},\"type\":\"carpet\"}],\"choropleth\":[{\"colorbar\":{\"outlinewidth\":0,\"ticks\":\"\"},\"type\":\"choropleth\"}],\"contour\":[{\"colorbar\":{\"outlinewidth\":0,\"ticks\":\"\"},\"colorscale\":[[0.0,\"#0d0887\"],[0.1111111111111111,\"#46039f\"],[0.2222222222222222,\"#7201a8\"],[0.3333333333333333,\"#9c179e\"],[0.4444444444444444,\"#bd3786\"],[0.5555555555555556,\"#d8576b\"],[0.6666666666666666,\"#ed7953\"],[0.7777777777777778,\"#fb9f3a\"],[0.8888888888888888,\"#fdca26\"],[1.0,\"#f0f921\"]],\"type\":\"contour\"}],\"contourcarpet\":[{\"colorbar\":{\"outlinewidth\":0,\"ticks\":\"\"},\"type\":\"contourcarpet\"}],\"heatmap\":[{\"colorbar\":{\"outlinewidth\":0,\"ticks\":\"\"},\"colorscale\":[[0.0,\"#0d0887\"],[0.1111111111111111,\"#46039f\"],[0.2222222222222222,\"#7201a8\"],[0.3333333333333333,\"#9c179e\"],[0.4444444444444444,\"#bd3786\"],[0.5555555555555556,\"#d8576b\"],[0.6666666666666666,\"#ed7953\"],[0.7777777777777778,\"#fb9f3a\"],[0.8888888888888888,\"#fdca26\"],[1.0,\"#f0f921\"]],\"type\":\"heatmap\"}],\"heatmapgl\":[{\"colorbar\":{\"outlinewidth\":0,\"ticks\":\"\"},\"colorscale\":[[0.0,\"#0d0887\"],[0.1111111111111111,\"#46039f\"],[0.2222222222222222,\"#7201a8\"],[0.3333333333333333,\"#9c179e\"],[0.4444444444444444,\"#bd3786\"],[0.5555555555555556,\"#d8576b\"],[0.6666666666666666,\"#ed7953\"],[0.7777777777777778,\"#fb9f3a\"],[0.8888888888888888,\"#fdca26\"],[1.0,\"#f0f921\"]],\"type\":\"heatmapgl\"}],\"histogram\":[{\"marker\":{\"pattern\":{\"fillmode\":\"overlay\",\"size\":10,\"solidity\":0.2}},\"type\":\"histogram\"}],\"histogram2d\":[{\"colorbar\":{\"outlinewidth\":0,\"ticks\":\"\"},\"colorscale\":[[0.0,\"#0d0887\"],[0.1111111111111111,\"#46039f\"],[0.2222222222222222,\"#7201a8\"],[0.3333333333333333,\"#9c179e\"],[0.4444444444444444,\"#bd3786\"],[0.5555555555555556,\"#d8576b\"],[0.6666666666666666,\"#ed7953\"],[0.7777777777777778,\"#fb9f3a\"],[0.8888888888888888,\"#fdca26\"],[1.0,\"#f0f921\"]],\"type\":\"histogram2d\"}],\"histogram2dcontour\":[{\"colorbar\":{\"outlinewidth\":0,\"ticks\":\"\"},\"colorscale\":[[0.0,\"#0d0887\"],[0.1111111111111111,\"#46039f\"],[0.2222222222222222,\"#7201a8\"],[0.3333333333333333,\"#9c179e\"],[0.4444444444444444,\"#bd3786\"],[0.5555555555555556,\"#d8576b\"],[0.6666666666666666,\"#ed7953\"],[0.7777777777777778,\"#fb9f3a\"],[0.8888888888888888,\"#fdca26\"],[1.0,\"#f0f921\"]],\"type\":\"histogram2dcontour\"}],\"mesh3d\":[{\"colorbar\":{\"outlinewidth\":0,\"ticks\":\"\"},\"type\":\"mesh3d\"}],\"parcoords\":[{\"line\":{\"colorbar\":{\"outlinewidth\":0,\"ticks\":\"\"}},\"type\":\"parcoords\"}],\"pie\":[{\"automargin\":true,\"type\":\"pie\"}],\"scatter\":[{\"marker\":{\"colorbar\":{\"outlinewidth\":0,\"ticks\":\"\"}},\"type\":\"scatter\"}],\"scatter3d\":[{\"line\":{\"colorbar\":{\"outlinewidth\":0,\"ticks\":\"\"}},\"marker\":{\"colorbar\":{\"outlinewidth\":0,\"ticks\":\"\"}},\"type\":\"scatter3d\"}],\"scattercarpet\":[{\"marker\":{\"colorbar\":{\"outlinewidth\":0,\"ticks\":\"\"}},\"type\":\"scattercarpet\"}],\"scattergeo\":[{\"marker\":{\"colorbar\":{\"outlinewidth\":0,\"ticks\":\"\"}},\"type\":\"scattergeo\"}],\"scattergl\":[{\"marker\":{\"colorbar\":{\"outlinewidth\":0,\"ticks\":\"\"}},\"type\":\"scattergl\"}],\"scattermapbox\":[{\"marker\":{\"colorbar\":{\"outlinewidth\":0,\"ticks\":\"\"}},\"type\":\"scattermapbox\"}],\"scatterpolar\":[{\"marker\":{\"colorbar\":{\"outlinewidth\":0,\"ticks\":\"\"}},\"type\":\"scatterpolar\"}],\"scatterpolargl\":[{\"marker\":{\"colorbar\":{\"outlinewidth\":0,\"ticks\":\"\"}},\"type\":\"scatterpolargl\"}],\"scatterternary\":[{\"marker\":{\"colorbar\":{\"outlinewidth\":0,\"ticks\":\"\"}},\"type\":\"scatterternary\"}],\"surface\":[{\"colorbar\":{\"outlinewidth\":0,\"ticks\":\"\"},\"colorscale\":[[0.0,\"#0d0887\"],[0.1111111111111111,\"#46039f\"],[0.2222222222222222,\"#7201a8\"],[0.3333333333333333,\"#9c179e\"],[0.4444444444444444,\"#bd3786\"],[0.5555555555555556,\"#d8576b\"],[0.6666666666666666,\"#ed7953\"],[0.7777777777777778,\"#fb9f3a\"],[0.8888888888888888,\"#fdca26\"],[1.0,\"#f0f921\"]],\"type\":\"surface\"}],\"table\":[{\"cells\":{\"fill\":{\"color\":\"#EBF0F8\"},\"line\":{\"color\":\"white\"}},\"header\":{\"fill\":{\"color\":\"#C8D4E3\"},\"line\":{\"color\":\"white\"}},\"type\":\"table\"}]},\"layout\":{\"annotationdefaults\":{\"arrowcolor\":\"#2a3f5f\",\"arrowhead\":0,\"arrowwidth\":1},\"autotypenumbers\":\"strict\",\"coloraxis\":{\"colorbar\":{\"outlinewidth\":0,\"ticks\":\"\"}},\"colorscale\":{\"diverging\":[[0,\"#8e0152\"],[0.1,\"#c51b7d\"],[0.2,\"#de77ae\"],[0.3,\"#f1b6da\"],[0.4,\"#fde0ef\"],[0.5,\"#f7f7f7\"],[0.6,\"#e6f5d0\"],[0.7,\"#b8e186\"],[0.8,\"#7fbc41\"],[0.9,\"#4d9221\"],[1,\"#276419\"]],\"sequential\":[[0.0,\"#0d0887\"],[0.1111111111111111,\"#46039f\"],[0.2222222222222222,\"#7201a8\"],[0.3333333333333333,\"#9c179e\"],[0.4444444444444444,\"#bd3786\"],[0.5555555555555556,\"#d8576b\"],[0.6666666666666666,\"#ed7953\"],[0.7777777777777778,\"#fb9f3a\"],[0.8888888888888888,\"#fdca26\"],[1.0,\"#f0f921\"]],\"sequentialminus\":[[0.0,\"#0d0887\"],[0.1111111111111111,\"#46039f\"],[0.2222222222222222,\"#7201a8\"],[0.3333333333333333,\"#9c179e\"],[0.4444444444444444,\"#bd3786\"],[0.5555555555555556,\"#d8576b\"],[0.6666666666666666,\"#ed7953\"],[0.7777777777777778,\"#fb9f3a\"],[0.8888888888888888,\"#fdca26\"],[1.0,\"#f0f921\"]]},\"colorway\":[\"#636efa\",\"#EF553B\",\"#00cc96\",\"#ab63fa\",\"#FFA15A\",\"#19d3f3\",\"#FF6692\",\"#B6E880\",\"#FF97FF\",\"#FECB52\"],\"font\":{\"color\":\"#2a3f5f\"},\"geo\":{\"bgcolor\":\"white\",\"lakecolor\":\"white\",\"landcolor\":\"#E5ECF6\",\"showlakes\":true,\"showland\":true,\"subunitcolor\":\"white\"},\"hoverlabel\":{\"align\":\"left\"},\"hovermode\":\"closest\",\"mapbox\":{\"style\":\"light\"},\"paper_bgcolor\":\"white\",\"plot_bgcolor\":\"#E5ECF6\",\"polar\":{\"angularaxis\":{\"gridcolor\":\"white\",\"linecolor\":\"white\",\"ticks\":\"\"},\"bgcolor\":\"#E5ECF6\",\"radialaxis\":{\"gridcolor\":\"white\",\"linecolor\":\"white\",\"ticks\":\"\"}},\"scene\":{\"xaxis\":{\"backgroundcolor\":\"#E5ECF6\",\"gridcolor\":\"white\",\"gridwidth\":2,\"linecolor\":\"white\",\"showbackground\":true,\"ticks\":\"\",\"zerolinecolor\":\"white\"},\"yaxis\":{\"backgroundcolor\":\"#E5ECF6\",\"gridcolor\":\"white\",\"gridwidth\":2,\"linecolor\":\"white\",\"showbackground\":true,\"ticks\":\"\",\"zerolinecolor\":\"white\"},\"zaxis\":{\"backgroundcolor\":\"#E5ECF6\",\"gridcolor\":\"white\",\"gridwidth\":2,\"linecolor\":\"white\",\"showbackground\":true,\"ticks\":\"\",\"zerolinecolor\":\"white\"}},\"shapedefaults\":{\"line\":{\"color\":\"#2a3f5f\"}},\"ternary\":{\"aaxis\":{\"gridcolor\":\"white\",\"linecolor\":\"white\",\"ticks\":\"\"},\"baxis\":{\"gridcolor\":\"white\",\"linecolor\":\"white\",\"ticks\":\"\"},\"bgcolor\":\"#E5ECF6\",\"caxis\":{\"gridcolor\":\"white\",\"linecolor\":\"white\",\"ticks\":\"\"}},\"title\":{\"x\":0.05},\"xaxis\":{\"automargin\":true,\"gridcolor\":\"white\",\"linecolor\":\"white\",\"ticks\":\"\",\"title\":{\"standoff\":15},\"zerolinecolor\":\"white\",\"zerolinewidth\":2},\"yaxis\":{\"automargin\":true,\"gridcolor\":\"white\",\"linecolor\":\"white\",\"ticks\":\"\",\"title\":{\"standoff\":15},\"zerolinecolor\":\"white\",\"zerolinewidth\":2}}},\"width\":1400,\"xaxis\":{\"categoryorder\":\"category ascending\",\"tickmode\":\"array\",\"ticktext\":[\"No Traffic\",\"1-100\",\"101-1000\",\"1001-5,000\",\"5001-10,000\",\"10,001+\"],\"tickvals\":[0,1,2,3,4,5],\"title\":{\"text\":\"Traffic Ranges\"},\"type\":\"category\"},\"yaxis\":{\"title\":{\"text\":\"Total Pages\"}},\"yaxis2\":{\"overlaying\":\"y\",\"side\":\"right\",\"title\":{\"text\":\"Total Traffic\"}}},                        {\"responsive\": true}                    ).then(function(){\n",
              "                            \n",
              "var gd = document.getElementById('ed9ee95a-79fb-4540-9c05-d280869e9625');\n",
              "var x = new MutationObserver(function (mutations, observer) {{\n",
              "        var display = window.getComputedStyle(gd).display;\n",
              "        if (!display || display === 'none') {{\n",
              "            console.log([gd, 'removed!']);\n",
              "            Plotly.purge(gd);\n",
              "            observer.disconnect();\n",
              "        }}\n",
              "}});\n",
              "\n",
              "// Listen for the removal of the full notebook cells\n",
              "var notebookContainer = gd.closest('#notebook-container');\n",
              "if (notebookContainer) {{\n",
              "    x.observe(notebookContainer, {childList: true});\n",
              "}}\n",
              "\n",
              "// Listen for the clearing of the current output cell\n",
              "var outputEl = gd.closest('.output');\n",
              "if (outputEl) {{\n",
              "    x.observe(outputEl, {childList: true});\n",
              "}}\n",
              "\n",
              "                        })                };                            </script>        </div>\n",
              "</body>\n",
              "</html>"
            ]
          },
          "metadata": {}
        }
      ]
    },
    {
      "cell_type": "markdown",
      "metadata": {
        "id": "PLvtZb-O_9sm"
      },
      "source": [
        "# Percentage of Traffic Derived from the Top Ten Pages"
      ]
    },
    {
      "cell_type": "code",
      "metadata": {
        "colab": {
          "base_uri": "https://localhost:8080/",
          "height": 317
        },
        "id": "EBogK1Ts9Nan",
        "outputId": "1fb020b6-1752-43c4-b620-0740e6e49c1c"
      },
      "source": [
        "import plotly.graph_objects as go\n",
        "\n",
        "fig = go.Figure(go.Indicator(\n",
        "    mode = \"number\",\n",
        "    value = df_gsc_stat['top_ten_links_percentage_all_traffic'].iloc[0],\n",
        "    number = {'suffix': \"%\"},\n",
        "    title = {\"text\": \"What Percentage Of Clicks Do The Top Ten Pages of Your Site Generate?\"},\n",
        "    domain = {'x': [0, 1], 'y': [0, 1]}))\n",
        "    \n",
        "fig.update_layout(height=300, paper_bgcolor = \"lightblue\")\n",
        "fig.show()"
      ],
      "execution_count": null,
      "outputs": [
        {
          "output_type": "display_data",
          "data": {
            "text/html": [
              "<html>\n",
              "<head><meta charset=\"utf-8\" /></head>\n",
              "<body>\n",
              "    <div>            <script src=\"https://cdnjs.cloudflare.com/ajax/libs/mathjax/2.7.5/MathJax.js?config=TeX-AMS-MML_SVG\"></script><script type=\"text/javascript\">if (window.MathJax) {MathJax.Hub.Config({SVG: {font: \"STIX-Web\"}});}</script>                <script type=\"text/javascript\">window.PlotlyConfig = {MathJaxConfig: 'local'};</script>\n",
              "        <script src=\"https://cdn.plot.ly/plotly-2.1.0.min.js\"></script>                <div id=\"9ba46bb3-a008-4303-a109-7a352a70c4e7\" class=\"plotly-graph-div\" style=\"height:300px; width:100%;\"></div>            <script type=\"text/javascript\">                                    window.PLOTLYENV=window.PLOTLYENV || {};                                    if (document.getElementById(\"9ba46bb3-a008-4303-a109-7a352a70c4e7\")) {                    Plotly.newPlot(                        \"9ba46bb3-a008-4303-a109-7a352a70c4e7\",                        [{\"domain\":{\"x\":[0,1],\"y\":[0,1]},\"mode\":\"number\",\"number\":{\"suffix\":\"%\"},\"title\":{\"text\":\"What Percentage Of Clicks Do The Top Ten Pages of Your Site Generate?\"},\"type\":\"indicator\",\"value\":61.19}],                        {\"height\":300,\"paper_bgcolor\":\"lightblue\",\"template\":{\"data\":{\"bar\":[{\"error_x\":{\"color\":\"#2a3f5f\"},\"error_y\":{\"color\":\"#2a3f5f\"},\"marker\":{\"line\":{\"color\":\"#E5ECF6\",\"width\":0.5},\"pattern\":{\"fillmode\":\"overlay\",\"size\":10,\"solidity\":0.2}},\"type\":\"bar\"}],\"barpolar\":[{\"marker\":{\"line\":{\"color\":\"#E5ECF6\",\"width\":0.5},\"pattern\":{\"fillmode\":\"overlay\",\"size\":10,\"solidity\":0.2}},\"type\":\"barpolar\"}],\"carpet\":[{\"aaxis\":{\"endlinecolor\":\"#2a3f5f\",\"gridcolor\":\"white\",\"linecolor\":\"white\",\"minorgridcolor\":\"white\",\"startlinecolor\":\"#2a3f5f\"},\"baxis\":{\"endlinecolor\":\"#2a3f5f\",\"gridcolor\":\"white\",\"linecolor\":\"white\",\"minorgridcolor\":\"white\",\"startlinecolor\":\"#2a3f5f\"},\"type\":\"carpet\"}],\"choropleth\":[{\"colorbar\":{\"outlinewidth\":0,\"ticks\":\"\"},\"type\":\"choropleth\"}],\"contour\":[{\"colorbar\":{\"outlinewidth\":0,\"ticks\":\"\"},\"colorscale\":[[0.0,\"#0d0887\"],[0.1111111111111111,\"#46039f\"],[0.2222222222222222,\"#7201a8\"],[0.3333333333333333,\"#9c179e\"],[0.4444444444444444,\"#bd3786\"],[0.5555555555555556,\"#d8576b\"],[0.6666666666666666,\"#ed7953\"],[0.7777777777777778,\"#fb9f3a\"],[0.8888888888888888,\"#fdca26\"],[1.0,\"#f0f921\"]],\"type\":\"contour\"}],\"contourcarpet\":[{\"colorbar\":{\"outlinewidth\":0,\"ticks\":\"\"},\"type\":\"contourcarpet\"}],\"heatmap\":[{\"colorbar\":{\"outlinewidth\":0,\"ticks\":\"\"},\"colorscale\":[[0.0,\"#0d0887\"],[0.1111111111111111,\"#46039f\"],[0.2222222222222222,\"#7201a8\"],[0.3333333333333333,\"#9c179e\"],[0.4444444444444444,\"#bd3786\"],[0.5555555555555556,\"#d8576b\"],[0.6666666666666666,\"#ed7953\"],[0.7777777777777778,\"#fb9f3a\"],[0.8888888888888888,\"#fdca26\"],[1.0,\"#f0f921\"]],\"type\":\"heatmap\"}],\"heatmapgl\":[{\"colorbar\":{\"outlinewidth\":0,\"ticks\":\"\"},\"colorscale\":[[0.0,\"#0d0887\"],[0.1111111111111111,\"#46039f\"],[0.2222222222222222,\"#7201a8\"],[0.3333333333333333,\"#9c179e\"],[0.4444444444444444,\"#bd3786\"],[0.5555555555555556,\"#d8576b\"],[0.6666666666666666,\"#ed7953\"],[0.7777777777777778,\"#fb9f3a\"],[0.8888888888888888,\"#fdca26\"],[1.0,\"#f0f921\"]],\"type\":\"heatmapgl\"}],\"histogram\":[{\"marker\":{\"pattern\":{\"fillmode\":\"overlay\",\"size\":10,\"solidity\":0.2}},\"type\":\"histogram\"}],\"histogram2d\":[{\"colorbar\":{\"outlinewidth\":0,\"ticks\":\"\"},\"colorscale\":[[0.0,\"#0d0887\"],[0.1111111111111111,\"#46039f\"],[0.2222222222222222,\"#7201a8\"],[0.3333333333333333,\"#9c179e\"],[0.4444444444444444,\"#bd3786\"],[0.5555555555555556,\"#d8576b\"],[0.6666666666666666,\"#ed7953\"],[0.7777777777777778,\"#fb9f3a\"],[0.8888888888888888,\"#fdca26\"],[1.0,\"#f0f921\"]],\"type\":\"histogram2d\"}],\"histogram2dcontour\":[{\"colorbar\":{\"outlinewidth\":0,\"ticks\":\"\"},\"colorscale\":[[0.0,\"#0d0887\"],[0.1111111111111111,\"#46039f\"],[0.2222222222222222,\"#7201a8\"],[0.3333333333333333,\"#9c179e\"],[0.4444444444444444,\"#bd3786\"],[0.5555555555555556,\"#d8576b\"],[0.6666666666666666,\"#ed7953\"],[0.7777777777777778,\"#fb9f3a\"],[0.8888888888888888,\"#fdca26\"],[1.0,\"#f0f921\"]],\"type\":\"histogram2dcontour\"}],\"mesh3d\":[{\"colorbar\":{\"outlinewidth\":0,\"ticks\":\"\"},\"type\":\"mesh3d\"}],\"parcoords\":[{\"line\":{\"colorbar\":{\"outlinewidth\":0,\"ticks\":\"\"}},\"type\":\"parcoords\"}],\"pie\":[{\"automargin\":true,\"type\":\"pie\"}],\"scatter\":[{\"marker\":{\"colorbar\":{\"outlinewidth\":0,\"ticks\":\"\"}},\"type\":\"scatter\"}],\"scatter3d\":[{\"line\":{\"colorbar\":{\"outlinewidth\":0,\"ticks\":\"\"}},\"marker\":{\"colorbar\":{\"outlinewidth\":0,\"ticks\":\"\"}},\"type\":\"scatter3d\"}],\"scattercarpet\":[{\"marker\":{\"colorbar\":{\"outlinewidth\":0,\"ticks\":\"\"}},\"type\":\"scattercarpet\"}],\"scattergeo\":[{\"marker\":{\"colorbar\":{\"outlinewidth\":0,\"ticks\":\"\"}},\"type\":\"scattergeo\"}],\"scattergl\":[{\"marker\":{\"colorbar\":{\"outlinewidth\":0,\"ticks\":\"\"}},\"type\":\"scattergl\"}],\"scattermapbox\":[{\"marker\":{\"colorbar\":{\"outlinewidth\":0,\"ticks\":\"\"}},\"type\":\"scattermapbox\"}],\"scatterpolar\":[{\"marker\":{\"colorbar\":{\"outlinewidth\":0,\"ticks\":\"\"}},\"type\":\"scatterpolar\"}],\"scatterpolargl\":[{\"marker\":{\"colorbar\":{\"outlinewidth\":0,\"ticks\":\"\"}},\"type\":\"scatterpolargl\"}],\"scatterternary\":[{\"marker\":{\"colorbar\":{\"outlinewidth\":0,\"ticks\":\"\"}},\"type\":\"scatterternary\"}],\"surface\":[{\"colorbar\":{\"outlinewidth\":0,\"ticks\":\"\"},\"colorscale\":[[0.0,\"#0d0887\"],[0.1111111111111111,\"#46039f\"],[0.2222222222222222,\"#7201a8\"],[0.3333333333333333,\"#9c179e\"],[0.4444444444444444,\"#bd3786\"],[0.5555555555555556,\"#d8576b\"],[0.6666666666666666,\"#ed7953\"],[0.7777777777777778,\"#fb9f3a\"],[0.8888888888888888,\"#fdca26\"],[1.0,\"#f0f921\"]],\"type\":\"surface\"}],\"table\":[{\"cells\":{\"fill\":{\"color\":\"#EBF0F8\"},\"line\":{\"color\":\"white\"}},\"header\":{\"fill\":{\"color\":\"#C8D4E3\"},\"line\":{\"color\":\"white\"}},\"type\":\"table\"}]},\"layout\":{\"annotationdefaults\":{\"arrowcolor\":\"#2a3f5f\",\"arrowhead\":0,\"arrowwidth\":1},\"autotypenumbers\":\"strict\",\"coloraxis\":{\"colorbar\":{\"outlinewidth\":0,\"ticks\":\"\"}},\"colorscale\":{\"diverging\":[[0,\"#8e0152\"],[0.1,\"#c51b7d\"],[0.2,\"#de77ae\"],[0.3,\"#f1b6da\"],[0.4,\"#fde0ef\"],[0.5,\"#f7f7f7\"],[0.6,\"#e6f5d0\"],[0.7,\"#b8e186\"],[0.8,\"#7fbc41\"],[0.9,\"#4d9221\"],[1,\"#276419\"]],\"sequential\":[[0.0,\"#0d0887\"],[0.1111111111111111,\"#46039f\"],[0.2222222222222222,\"#7201a8\"],[0.3333333333333333,\"#9c179e\"],[0.4444444444444444,\"#bd3786\"],[0.5555555555555556,\"#d8576b\"],[0.6666666666666666,\"#ed7953\"],[0.7777777777777778,\"#fb9f3a\"],[0.8888888888888888,\"#fdca26\"],[1.0,\"#f0f921\"]],\"sequentialminus\":[[0.0,\"#0d0887\"],[0.1111111111111111,\"#46039f\"],[0.2222222222222222,\"#7201a8\"],[0.3333333333333333,\"#9c179e\"],[0.4444444444444444,\"#bd3786\"],[0.5555555555555556,\"#d8576b\"],[0.6666666666666666,\"#ed7953\"],[0.7777777777777778,\"#fb9f3a\"],[0.8888888888888888,\"#fdca26\"],[1.0,\"#f0f921\"]]},\"colorway\":[\"#636efa\",\"#EF553B\",\"#00cc96\",\"#ab63fa\",\"#FFA15A\",\"#19d3f3\",\"#FF6692\",\"#B6E880\",\"#FF97FF\",\"#FECB52\"],\"font\":{\"color\":\"#2a3f5f\"},\"geo\":{\"bgcolor\":\"white\",\"lakecolor\":\"white\",\"landcolor\":\"#E5ECF6\",\"showlakes\":true,\"showland\":true,\"subunitcolor\":\"white\"},\"hoverlabel\":{\"align\":\"left\"},\"hovermode\":\"closest\",\"mapbox\":{\"style\":\"light\"},\"paper_bgcolor\":\"white\",\"plot_bgcolor\":\"#E5ECF6\",\"polar\":{\"angularaxis\":{\"gridcolor\":\"white\",\"linecolor\":\"white\",\"ticks\":\"\"},\"bgcolor\":\"#E5ECF6\",\"radialaxis\":{\"gridcolor\":\"white\",\"linecolor\":\"white\",\"ticks\":\"\"}},\"scene\":{\"xaxis\":{\"backgroundcolor\":\"#E5ECF6\",\"gridcolor\":\"white\",\"gridwidth\":2,\"linecolor\":\"white\",\"showbackground\":true,\"ticks\":\"\",\"zerolinecolor\":\"white\"},\"yaxis\":{\"backgroundcolor\":\"#E5ECF6\",\"gridcolor\":\"white\",\"gridwidth\":2,\"linecolor\":\"white\",\"showbackground\":true,\"ticks\":\"\",\"zerolinecolor\":\"white\"},\"zaxis\":{\"backgroundcolor\":\"#E5ECF6\",\"gridcolor\":\"white\",\"gridwidth\":2,\"linecolor\":\"white\",\"showbackground\":true,\"ticks\":\"\",\"zerolinecolor\":\"white\"}},\"shapedefaults\":{\"line\":{\"color\":\"#2a3f5f\"}},\"ternary\":{\"aaxis\":{\"gridcolor\":\"white\",\"linecolor\":\"white\",\"ticks\":\"\"},\"baxis\":{\"gridcolor\":\"white\",\"linecolor\":\"white\",\"ticks\":\"\"},\"bgcolor\":\"#E5ECF6\",\"caxis\":{\"gridcolor\":\"white\",\"linecolor\":\"white\",\"ticks\":\"\"}},\"title\":{\"x\":0.05},\"xaxis\":{\"automargin\":true,\"gridcolor\":\"white\",\"linecolor\":\"white\",\"ticks\":\"\",\"title\":{\"standoff\":15},\"zerolinecolor\":\"white\",\"zerolinewidth\":2},\"yaxis\":{\"automargin\":true,\"gridcolor\":\"white\",\"linecolor\":\"white\",\"ticks\":\"\",\"title\":{\"standoff\":15},\"zerolinecolor\":\"white\",\"zerolinewidth\":2}}}},                        {\"responsive\": true}                    ).then(function(){\n",
              "                            \n",
              "var gd = document.getElementById('9ba46bb3-a008-4303-a109-7a352a70c4e7');\n",
              "var x = new MutationObserver(function (mutations, observer) {{\n",
              "        var display = window.getComputedStyle(gd).display;\n",
              "        if (!display || display === 'none') {{\n",
              "            console.log([gd, 'removed!']);\n",
              "            Plotly.purge(gd);\n",
              "            observer.disconnect();\n",
              "        }}\n",
              "}});\n",
              "\n",
              "// Listen for the removal of the full notebook cells\n",
              "var notebookContainer = gd.closest('#notebook-container');\n",
              "if (notebookContainer) {{\n",
              "    x.observe(notebookContainer, {childList: true});\n",
              "}}\n",
              "\n",
              "// Listen for the clearing of the current output cell\n",
              "var outputEl = gd.closest('.output');\n",
              "if (outputEl) {{\n",
              "    x.observe(outputEl, {childList: true});\n",
              "}}\n",
              "\n",
              "                        })                };                            </script>        </div>\n",
              "</body>\n",
              "</html>"
            ]
          },
          "metadata": {}
        }
      ]
    },
    {
      "cell_type": "markdown",
      "metadata": {
        "id": "d_eso17EvhDT"
      },
      "source": [
        "# Top Ten Pages by Traffic"
      ]
    },
    {
      "cell_type": "code",
      "metadata": {
        "colab": {
          "base_uri": "https://localhost:8080/",
          "height": 363
        },
        "id": "PiWxp5c7vIJa",
        "outputId": "304758b6-970b-46db-ed78-411762f3e88e"
      },
      "source": [
        "# rename the traffic ranges back to correct values\n",
        "df_gsc_stat[\"traffic_range\"] = df_gsc_stat[\"traffic_range\"].astype(str)\n",
        "df_gsc_stat[\"traffic_range\"] = df_gsc_stat[\"traffic_range\"].apply(lambda x: x.replace(\"0.0\", \"0\"))\n",
        "df_gsc_stat[\"traffic_range\"] = df_gsc_stat[\"traffic_range\"].apply(lambda x: x.replace(\"1.0\", \"1-100\"))  \n",
        "df_gsc_stat[\"traffic_range\"] = df_gsc_stat[\"traffic_range\"].apply(lambda x: x.replace(\"2.0\", \"101-1000\"))  \n",
        "df_gsc_stat[\"traffic_range\"] = df_gsc_stat[\"traffic_range\"].apply(lambda x: x.replace(\"3.0\", \"1001-5,000\"))  \n",
        "df_gsc_stat[\"traffic_range\"] = df_gsc_stat[\"traffic_range\"].apply(lambda x: x.replace(\"4.0\", \"5,001-10,000\"))  \n",
        "df_gsc_stat[\"traffic_range\"] = df_gsc_stat[\"traffic_range\"].apply(lambda x: x.replace(\"5.0\", \"10,001+\"))  \n",
        "top_ten = df_gsc_stat[:10]\n",
        "\n",
        "del top_ten['no_pages']\n",
        "del top_ten['top_ten_links_percentage_all_traffic']\n",
        "top_ten"
      ],
      "execution_count": null,
      "outputs": [
        {
          "output_type": "execute_result",
          "data": {
            "text/plain": [
              "         check_date                                               page  \\\n",
              "0        2022-08-13  https://www.doorsuperstore.co.uk/browse/extern...   \n",
              "1109051  2022-08-13  https://www.doorsuperstore.co.uk/browse/extern...   \n",
              "896891   2022-08-13  https://www.doorsuperstore.co.uk/browse/intern...   \n",
              "807081   2022-08-13  https://www.doorsuperstore.co.uk/browse/extern...   \n",
              "799055   2022-08-13                  https://www.doorsuperstore.co.uk/   \n",
              "60644    2022-08-13  https://www.doorsuperstore.co.uk/browse/intern...   \n",
              "4858     2022-08-13  https://www.doorsuperstore.co.uk/browse/intern...   \n",
              "30979    2022-08-13  https://www.doorsuperstore.co.uk/browse/intern...   \n",
              "324105   2022-08-13  https://www.doorsuperstore.co.uk/browse/intern...   \n",
              "321558   2022-08-13  https://www.doorsuperstore.co.uk/browse/door-f...   \n",
              "\n",
              "         no_kws_page_ranks_for  percent_kws_page_ranks_for  total_clicks_page  \\\n",
              "0                         4482                        3.85               7459   \n",
              "1109051                   3143                        2.70               6106   \n",
              "896891                    3978                        3.42               5985   \n",
              "807081                    2309                        1.99               5062   \n",
              "799055                    2157                        1.85               3275   \n",
              "60644                     2951                        2.54               3085   \n",
              "4858                      3127                        2.69               2355   \n",
              "30979                     1981                        1.70               2251   \n",
              "324105                    1888                        1.62               1557   \n",
              "321558                    1384                        1.19               1554   \n",
              "\n",
              "         total_page_imps_percent  mean_ctr  mean_position  \\\n",
              "0                         205587      1.57          26.10   \n",
              "1109051                   192212      1.86          12.37   \n",
              "896891                    330287      1.44          15.52   \n",
              "807081                    131767      2.12          14.22   \n",
              "799055                     78055      3.03          27.80   \n",
              "60644                     224675      0.69          12.80   \n",
              "4858                      151195      1.39          17.39   \n",
              "30979                     195877      0.37           9.01   \n",
              "324105                    110256      0.53           7.58   \n",
              "321558                     94101      1.96          12.38   \n",
              "\n",
              "         total_page_clicks_percent  page_percent_imps traffic_range  \n",
              "0                            11.80               4.80  5,001-10,000  \n",
              "1109051                       9.66               4.49  5,001-10,000  \n",
              "896891                        9.47               7.71  5,001-10,000  \n",
              "807081                        8.01               3.08  5,001-10,000  \n",
              "799055                        5.18               1.82    1001-5,000  \n",
              "60644                         4.88               5.25    1001-5,000  \n",
              "4858                          3.72               3.53    1001-5,000  \n",
              "30979                         3.56               4.58    1001-5,000  \n",
              "324105                        2.46               2.58    1001-5,000  \n",
              "321558                        2.46               2.20    1001-5,000  "
            ],
            "text/html": [
              "\n",
              "  <div id=\"df-4d39e6e5-4511-4cd6-a853-faba4a171ec5\">\n",
              "    <div class=\"colab-df-container\">\n",
              "      <div>\n",
              "<style scoped>\n",
              "    .dataframe tbody tr th:only-of-type {\n",
              "        vertical-align: middle;\n",
              "    }\n",
              "\n",
              "    .dataframe tbody tr th {\n",
              "        vertical-align: top;\n",
              "    }\n",
              "\n",
              "    .dataframe thead th {\n",
              "        text-align: right;\n",
              "    }\n",
              "</style>\n",
              "<table border=\"1\" class=\"dataframe\">\n",
              "  <thead>\n",
              "    <tr style=\"text-align: right;\">\n",
              "      <th></th>\n",
              "      <th>check_date</th>\n",
              "      <th>page</th>\n",
              "      <th>no_kws_page_ranks_for</th>\n",
              "      <th>percent_kws_page_ranks_for</th>\n",
              "      <th>total_clicks_page</th>\n",
              "      <th>total_page_imps_percent</th>\n",
              "      <th>mean_ctr</th>\n",
              "      <th>mean_position</th>\n",
              "      <th>total_page_clicks_percent</th>\n",
              "      <th>page_percent_imps</th>\n",
              "      <th>traffic_range</th>\n",
              "    </tr>\n",
              "  </thead>\n",
              "  <tbody>\n",
              "    <tr>\n",
              "      <th>0</th>\n",
              "      <td>2022-08-13</td>\n",
              "      <td>https://www.doorsuperstore.co.uk/browse/extern...</td>\n",
              "      <td>4482</td>\n",
              "      <td>3.85</td>\n",
              "      <td>7459</td>\n",
              "      <td>205587</td>\n",
              "      <td>1.57</td>\n",
              "      <td>26.10</td>\n",
              "      <td>11.80</td>\n",
              "      <td>4.80</td>\n",
              "      <td>5,001-10,000</td>\n",
              "    </tr>\n",
              "    <tr>\n",
              "      <th>1109051</th>\n",
              "      <td>2022-08-13</td>\n",
              "      <td>https://www.doorsuperstore.co.uk/browse/extern...</td>\n",
              "      <td>3143</td>\n",
              "      <td>2.70</td>\n",
              "      <td>6106</td>\n",
              "      <td>192212</td>\n",
              "      <td>1.86</td>\n",
              "      <td>12.37</td>\n",
              "      <td>9.66</td>\n",
              "      <td>4.49</td>\n",
              "      <td>5,001-10,000</td>\n",
              "    </tr>\n",
              "    <tr>\n",
              "      <th>896891</th>\n",
              "      <td>2022-08-13</td>\n",
              "      <td>https://www.doorsuperstore.co.uk/browse/intern...</td>\n",
              "      <td>3978</td>\n",
              "      <td>3.42</td>\n",
              "      <td>5985</td>\n",
              "      <td>330287</td>\n",
              "      <td>1.44</td>\n",
              "      <td>15.52</td>\n",
              "      <td>9.47</td>\n",
              "      <td>7.71</td>\n",
              "      <td>5,001-10,000</td>\n",
              "    </tr>\n",
              "    <tr>\n",
              "      <th>807081</th>\n",
              "      <td>2022-08-13</td>\n",
              "      <td>https://www.doorsuperstore.co.uk/browse/extern...</td>\n",
              "      <td>2309</td>\n",
              "      <td>1.99</td>\n",
              "      <td>5062</td>\n",
              "      <td>131767</td>\n",
              "      <td>2.12</td>\n",
              "      <td>14.22</td>\n",
              "      <td>8.01</td>\n",
              "      <td>3.08</td>\n",
              "      <td>5,001-10,000</td>\n",
              "    </tr>\n",
              "    <tr>\n",
              "      <th>799055</th>\n",
              "      <td>2022-08-13</td>\n",
              "      <td>https://www.doorsuperstore.co.uk/</td>\n",
              "      <td>2157</td>\n",
              "      <td>1.85</td>\n",
              "      <td>3275</td>\n",
              "      <td>78055</td>\n",
              "      <td>3.03</td>\n",
              "      <td>27.80</td>\n",
              "      <td>5.18</td>\n",
              "      <td>1.82</td>\n",
              "      <td>1001-5,000</td>\n",
              "    </tr>\n",
              "    <tr>\n",
              "      <th>60644</th>\n",
              "      <td>2022-08-13</td>\n",
              "      <td>https://www.doorsuperstore.co.uk/browse/intern...</td>\n",
              "      <td>2951</td>\n",
              "      <td>2.54</td>\n",
              "      <td>3085</td>\n",
              "      <td>224675</td>\n",
              "      <td>0.69</td>\n",
              "      <td>12.80</td>\n",
              "      <td>4.88</td>\n",
              "      <td>5.25</td>\n",
              "      <td>1001-5,000</td>\n",
              "    </tr>\n",
              "    <tr>\n",
              "      <th>4858</th>\n",
              "      <td>2022-08-13</td>\n",
              "      <td>https://www.doorsuperstore.co.uk/browse/intern...</td>\n",
              "      <td>3127</td>\n",
              "      <td>2.69</td>\n",
              "      <td>2355</td>\n",
              "      <td>151195</td>\n",
              "      <td>1.39</td>\n",
              "      <td>17.39</td>\n",
              "      <td>3.72</td>\n",
              "      <td>3.53</td>\n",
              "      <td>1001-5,000</td>\n",
              "    </tr>\n",
              "    <tr>\n",
              "      <th>30979</th>\n",
              "      <td>2022-08-13</td>\n",
              "      <td>https://www.doorsuperstore.co.uk/browse/intern...</td>\n",
              "      <td>1981</td>\n",
              "      <td>1.70</td>\n",
              "      <td>2251</td>\n",
              "      <td>195877</td>\n",
              "      <td>0.37</td>\n",
              "      <td>9.01</td>\n",
              "      <td>3.56</td>\n",
              "      <td>4.58</td>\n",
              "      <td>1001-5,000</td>\n",
              "    </tr>\n",
              "    <tr>\n",
              "      <th>324105</th>\n",
              "      <td>2022-08-13</td>\n",
              "      <td>https://www.doorsuperstore.co.uk/browse/intern...</td>\n",
              "      <td>1888</td>\n",
              "      <td>1.62</td>\n",
              "      <td>1557</td>\n",
              "      <td>110256</td>\n",
              "      <td>0.53</td>\n",
              "      <td>7.58</td>\n",
              "      <td>2.46</td>\n",
              "      <td>2.58</td>\n",
              "      <td>1001-5,000</td>\n",
              "    </tr>\n",
              "    <tr>\n",
              "      <th>321558</th>\n",
              "      <td>2022-08-13</td>\n",
              "      <td>https://www.doorsuperstore.co.uk/browse/door-f...</td>\n",
              "      <td>1384</td>\n",
              "      <td>1.19</td>\n",
              "      <td>1554</td>\n",
              "      <td>94101</td>\n",
              "      <td>1.96</td>\n",
              "      <td>12.38</td>\n",
              "      <td>2.46</td>\n",
              "      <td>2.20</td>\n",
              "      <td>1001-5,000</td>\n",
              "    </tr>\n",
              "  </tbody>\n",
              "</table>\n",
              "</div>\n",
              "      <button class=\"colab-df-convert\" onclick=\"convertToInteractive('df-4d39e6e5-4511-4cd6-a853-faba4a171ec5')\"\n",
              "              title=\"Convert this dataframe to an interactive table.\"\n",
              "              style=\"display:none;\">\n",
              "        \n",
              "  <svg xmlns=\"http://www.w3.org/2000/svg\" height=\"24px\"viewBox=\"0 0 24 24\"\n",
              "       width=\"24px\">\n",
              "    <path d=\"M0 0h24v24H0V0z\" fill=\"none\"/>\n",
              "    <path d=\"M18.56 5.44l.94 2.06.94-2.06 2.06-.94-2.06-.94-.94-2.06-.94 2.06-2.06.94zm-11 1L8.5 8.5l.94-2.06 2.06-.94-2.06-.94L8.5 2.5l-.94 2.06-2.06.94zm10 10l.94 2.06.94-2.06 2.06-.94-2.06-.94-.94-2.06-.94 2.06-2.06.94z\"/><path d=\"M17.41 7.96l-1.37-1.37c-.4-.4-.92-.59-1.43-.59-.52 0-1.04.2-1.43.59L10.3 9.45l-7.72 7.72c-.78.78-.78 2.05 0 2.83L4 21.41c.39.39.9.59 1.41.59.51 0 1.02-.2 1.41-.59l7.78-7.78 2.81-2.81c.8-.78.8-2.07 0-2.86zM5.41 20L4 18.59l7.72-7.72 1.47 1.35L5.41 20z\"/>\n",
              "  </svg>\n",
              "      </button>\n",
              "      \n",
              "  <style>\n",
              "    .colab-df-container {\n",
              "      display:flex;\n",
              "      flex-wrap:wrap;\n",
              "      gap: 12px;\n",
              "    }\n",
              "\n",
              "    .colab-df-convert {\n",
              "      background-color: #E8F0FE;\n",
              "      border: none;\n",
              "      border-radius: 50%;\n",
              "      cursor: pointer;\n",
              "      display: none;\n",
              "      fill: #1967D2;\n",
              "      height: 32px;\n",
              "      padding: 0 0 0 0;\n",
              "      width: 32px;\n",
              "    }\n",
              "\n",
              "    .colab-df-convert:hover {\n",
              "      background-color: #E2EBFA;\n",
              "      box-shadow: 0px 1px 2px rgba(60, 64, 67, 0.3), 0px 1px 3px 1px rgba(60, 64, 67, 0.15);\n",
              "      fill: #174EA6;\n",
              "    }\n",
              "\n",
              "    [theme=dark] .colab-df-convert {\n",
              "      background-color: #3B4455;\n",
              "      fill: #D2E3FC;\n",
              "    }\n",
              "\n",
              "    [theme=dark] .colab-df-convert:hover {\n",
              "      background-color: #434B5C;\n",
              "      box-shadow: 0px 1px 3px 1px rgba(0, 0, 0, 0.15);\n",
              "      filter: drop-shadow(0px 1px 2px rgba(0, 0, 0, 0.3));\n",
              "      fill: #FFFFFF;\n",
              "    }\n",
              "  </style>\n",
              "\n",
              "      <script>\n",
              "        const buttonEl =\n",
              "          document.querySelector('#df-4d39e6e5-4511-4cd6-a853-faba4a171ec5 button.colab-df-convert');\n",
              "        buttonEl.style.display =\n",
              "          google.colab.kernel.accessAllowed ? 'block' : 'none';\n",
              "\n",
              "        async function convertToInteractive(key) {\n",
              "          const element = document.querySelector('#df-4d39e6e5-4511-4cd6-a853-faba4a171ec5');\n",
              "          const dataTable =\n",
              "            await google.colab.kernel.invokeFunction('convertToInteractive',\n",
              "                                                     [key], {});\n",
              "          if (!dataTable) return;\n",
              "\n",
              "          const docLinkHtml = 'Like what you see? Visit the ' +\n",
              "            '<a target=\"_blank\" href=https://colab.research.google.com/notebooks/data_table.ipynb>data table notebook</a>'\n",
              "            + ' to learn more about interactive tables.';\n",
              "          element.innerHTML = '';\n",
              "          dataTable['output_type'] = 'display_data';\n",
              "          await google.colab.output.renderOutput(dataTable, element);\n",
              "          const docLink = document.createElement('div');\n",
              "          docLink.innerHTML = docLinkHtml;\n",
              "          element.appendChild(docLink);\n",
              "        }\n",
              "      </script>\n",
              "    </div>\n",
              "  </div>\n",
              "  "
            ]
          },
          "metadata": {},
          "execution_count": 76
        }
      ]
    },
    {
      "cell_type": "code",
      "metadata": {
        "colab": {
          "base_uri": "https://localhost:8080/",
          "height": 317
        },
        "id": "ea6-N9bXCCDf",
        "outputId": "3d8a0424-d2d5-45a9-9a95-288c76c55e2d"
      },
      "source": [
        "total_rows = len(df_gsc_stat)\n",
        "no_traffic = len(df_gsc_stat.loc[df_gsc_stat['traffic_range'] == \"0\"])\n",
        "no_traffic_percent = round(no_traffic / total_rows * 100, 2)\n",
        "\n",
        "fig = go.Figure(go.Indicator(\n",
        "    mode = \"number\",\n",
        "    value = no_traffic_percent,\n",
        "    number = {'suffix': \"%\"},\n",
        "    title = {\"text\": \"What Percentage of Pages Have No Clicks at All?\"},\n",
        "    domain = {'x': [0, 1], 'y': [0, 1]}))\n",
        "    \n",
        "fig.update_layout(height=300, paper_bgcolor = \"lightblue\")"
      ],
      "execution_count": null,
      "outputs": [
        {
          "output_type": "display_data",
          "data": {
            "text/html": [
              "<html>\n",
              "<head><meta charset=\"utf-8\" /></head>\n",
              "<body>\n",
              "    <div>            <script src=\"https://cdnjs.cloudflare.com/ajax/libs/mathjax/2.7.5/MathJax.js?config=TeX-AMS-MML_SVG\"></script><script type=\"text/javascript\">if (window.MathJax) {MathJax.Hub.Config({SVG: {font: \"STIX-Web\"}});}</script>                <script type=\"text/javascript\">window.PlotlyConfig = {MathJaxConfig: 'local'};</script>\n",
              "        <script src=\"https://cdn.plot.ly/plotly-2.1.0.min.js\"></script>                <div id=\"2e837393-dc98-43f3-a309-f6911259b731\" class=\"plotly-graph-div\" style=\"height:300px; width:100%;\"></div>            <script type=\"text/javascript\">                                    window.PLOTLYENV=window.PLOTLYENV || {};                                    if (document.getElementById(\"2e837393-dc98-43f3-a309-f6911259b731\")) {                    Plotly.newPlot(                        \"2e837393-dc98-43f3-a309-f6911259b731\",                        [{\"domain\":{\"x\":[0,1],\"y\":[0,1]},\"mode\":\"number\",\"number\":{\"suffix\":\"%\"},\"title\":{\"text\":\"What Percentage of Pages Have No Clicks at All?\"},\"type\":\"indicator\",\"value\":78.51}],                        {\"height\":300,\"paper_bgcolor\":\"lightblue\",\"template\":{\"data\":{\"bar\":[{\"error_x\":{\"color\":\"#2a3f5f\"},\"error_y\":{\"color\":\"#2a3f5f\"},\"marker\":{\"line\":{\"color\":\"#E5ECF6\",\"width\":0.5},\"pattern\":{\"fillmode\":\"overlay\",\"size\":10,\"solidity\":0.2}},\"type\":\"bar\"}],\"barpolar\":[{\"marker\":{\"line\":{\"color\":\"#E5ECF6\",\"width\":0.5},\"pattern\":{\"fillmode\":\"overlay\",\"size\":10,\"solidity\":0.2}},\"type\":\"barpolar\"}],\"carpet\":[{\"aaxis\":{\"endlinecolor\":\"#2a3f5f\",\"gridcolor\":\"white\",\"linecolor\":\"white\",\"minorgridcolor\":\"white\",\"startlinecolor\":\"#2a3f5f\"},\"baxis\":{\"endlinecolor\":\"#2a3f5f\",\"gridcolor\":\"white\",\"linecolor\":\"white\",\"minorgridcolor\":\"white\",\"startlinecolor\":\"#2a3f5f\"},\"type\":\"carpet\"}],\"choropleth\":[{\"colorbar\":{\"outlinewidth\":0,\"ticks\":\"\"},\"type\":\"choropleth\"}],\"contour\":[{\"colorbar\":{\"outlinewidth\":0,\"ticks\":\"\"},\"colorscale\":[[0.0,\"#0d0887\"],[0.1111111111111111,\"#46039f\"],[0.2222222222222222,\"#7201a8\"],[0.3333333333333333,\"#9c179e\"],[0.4444444444444444,\"#bd3786\"],[0.5555555555555556,\"#d8576b\"],[0.6666666666666666,\"#ed7953\"],[0.7777777777777778,\"#fb9f3a\"],[0.8888888888888888,\"#fdca26\"],[1.0,\"#f0f921\"]],\"type\":\"contour\"}],\"contourcarpet\":[{\"colorbar\":{\"outlinewidth\":0,\"ticks\":\"\"},\"type\":\"contourcarpet\"}],\"heatmap\":[{\"colorbar\":{\"outlinewidth\":0,\"ticks\":\"\"},\"colorscale\":[[0.0,\"#0d0887\"],[0.1111111111111111,\"#46039f\"],[0.2222222222222222,\"#7201a8\"],[0.3333333333333333,\"#9c179e\"],[0.4444444444444444,\"#bd3786\"],[0.5555555555555556,\"#d8576b\"],[0.6666666666666666,\"#ed7953\"],[0.7777777777777778,\"#fb9f3a\"],[0.8888888888888888,\"#fdca26\"],[1.0,\"#f0f921\"]],\"type\":\"heatmap\"}],\"heatmapgl\":[{\"colorbar\":{\"outlinewidth\":0,\"ticks\":\"\"},\"colorscale\":[[0.0,\"#0d0887\"],[0.1111111111111111,\"#46039f\"],[0.2222222222222222,\"#7201a8\"],[0.3333333333333333,\"#9c179e\"],[0.4444444444444444,\"#bd3786\"],[0.5555555555555556,\"#d8576b\"],[0.6666666666666666,\"#ed7953\"],[0.7777777777777778,\"#fb9f3a\"],[0.8888888888888888,\"#fdca26\"],[1.0,\"#f0f921\"]],\"type\":\"heatmapgl\"}],\"histogram\":[{\"marker\":{\"pattern\":{\"fillmode\":\"overlay\",\"size\":10,\"solidity\":0.2}},\"type\":\"histogram\"}],\"histogram2d\":[{\"colorbar\":{\"outlinewidth\":0,\"ticks\":\"\"},\"colorscale\":[[0.0,\"#0d0887\"],[0.1111111111111111,\"#46039f\"],[0.2222222222222222,\"#7201a8\"],[0.3333333333333333,\"#9c179e\"],[0.4444444444444444,\"#bd3786\"],[0.5555555555555556,\"#d8576b\"],[0.6666666666666666,\"#ed7953\"],[0.7777777777777778,\"#fb9f3a\"],[0.8888888888888888,\"#fdca26\"],[1.0,\"#f0f921\"]],\"type\":\"histogram2d\"}],\"histogram2dcontour\":[{\"colorbar\":{\"outlinewidth\":0,\"ticks\":\"\"},\"colorscale\":[[0.0,\"#0d0887\"],[0.1111111111111111,\"#46039f\"],[0.2222222222222222,\"#7201a8\"],[0.3333333333333333,\"#9c179e\"],[0.4444444444444444,\"#bd3786\"],[0.5555555555555556,\"#d8576b\"],[0.6666666666666666,\"#ed7953\"],[0.7777777777777778,\"#fb9f3a\"],[0.8888888888888888,\"#fdca26\"],[1.0,\"#f0f921\"]],\"type\":\"histogram2dcontour\"}],\"mesh3d\":[{\"colorbar\":{\"outlinewidth\":0,\"ticks\":\"\"},\"type\":\"mesh3d\"}],\"parcoords\":[{\"line\":{\"colorbar\":{\"outlinewidth\":0,\"ticks\":\"\"}},\"type\":\"parcoords\"}],\"pie\":[{\"automargin\":true,\"type\":\"pie\"}],\"scatter\":[{\"marker\":{\"colorbar\":{\"outlinewidth\":0,\"ticks\":\"\"}},\"type\":\"scatter\"}],\"scatter3d\":[{\"line\":{\"colorbar\":{\"outlinewidth\":0,\"ticks\":\"\"}},\"marker\":{\"colorbar\":{\"outlinewidth\":0,\"ticks\":\"\"}},\"type\":\"scatter3d\"}],\"scattercarpet\":[{\"marker\":{\"colorbar\":{\"outlinewidth\":0,\"ticks\":\"\"}},\"type\":\"scattercarpet\"}],\"scattergeo\":[{\"marker\":{\"colorbar\":{\"outlinewidth\":0,\"ticks\":\"\"}},\"type\":\"scattergeo\"}],\"scattergl\":[{\"marker\":{\"colorbar\":{\"outlinewidth\":0,\"ticks\":\"\"}},\"type\":\"scattergl\"}],\"scattermapbox\":[{\"marker\":{\"colorbar\":{\"outlinewidth\":0,\"ticks\":\"\"}},\"type\":\"scattermapbox\"}],\"scatterpolar\":[{\"marker\":{\"colorbar\":{\"outlinewidth\":0,\"ticks\":\"\"}},\"type\":\"scatterpolar\"}],\"scatterpolargl\":[{\"marker\":{\"colorbar\":{\"outlinewidth\":0,\"ticks\":\"\"}},\"type\":\"scatterpolargl\"}],\"scatterternary\":[{\"marker\":{\"colorbar\":{\"outlinewidth\":0,\"ticks\":\"\"}},\"type\":\"scatterternary\"}],\"surface\":[{\"colorbar\":{\"outlinewidth\":0,\"ticks\":\"\"},\"colorscale\":[[0.0,\"#0d0887\"],[0.1111111111111111,\"#46039f\"],[0.2222222222222222,\"#7201a8\"],[0.3333333333333333,\"#9c179e\"],[0.4444444444444444,\"#bd3786\"],[0.5555555555555556,\"#d8576b\"],[0.6666666666666666,\"#ed7953\"],[0.7777777777777778,\"#fb9f3a\"],[0.8888888888888888,\"#fdca26\"],[1.0,\"#f0f921\"]],\"type\":\"surface\"}],\"table\":[{\"cells\":{\"fill\":{\"color\":\"#EBF0F8\"},\"line\":{\"color\":\"white\"}},\"header\":{\"fill\":{\"color\":\"#C8D4E3\"},\"line\":{\"color\":\"white\"}},\"type\":\"table\"}]},\"layout\":{\"annotationdefaults\":{\"arrowcolor\":\"#2a3f5f\",\"arrowhead\":0,\"arrowwidth\":1},\"autotypenumbers\":\"strict\",\"coloraxis\":{\"colorbar\":{\"outlinewidth\":0,\"ticks\":\"\"}},\"colorscale\":{\"diverging\":[[0,\"#8e0152\"],[0.1,\"#c51b7d\"],[0.2,\"#de77ae\"],[0.3,\"#f1b6da\"],[0.4,\"#fde0ef\"],[0.5,\"#f7f7f7\"],[0.6,\"#e6f5d0\"],[0.7,\"#b8e186\"],[0.8,\"#7fbc41\"],[0.9,\"#4d9221\"],[1,\"#276419\"]],\"sequential\":[[0.0,\"#0d0887\"],[0.1111111111111111,\"#46039f\"],[0.2222222222222222,\"#7201a8\"],[0.3333333333333333,\"#9c179e\"],[0.4444444444444444,\"#bd3786\"],[0.5555555555555556,\"#d8576b\"],[0.6666666666666666,\"#ed7953\"],[0.7777777777777778,\"#fb9f3a\"],[0.8888888888888888,\"#fdca26\"],[1.0,\"#f0f921\"]],\"sequentialminus\":[[0.0,\"#0d0887\"],[0.1111111111111111,\"#46039f\"],[0.2222222222222222,\"#7201a8\"],[0.3333333333333333,\"#9c179e\"],[0.4444444444444444,\"#bd3786\"],[0.5555555555555556,\"#d8576b\"],[0.6666666666666666,\"#ed7953\"],[0.7777777777777778,\"#fb9f3a\"],[0.8888888888888888,\"#fdca26\"],[1.0,\"#f0f921\"]]},\"colorway\":[\"#636efa\",\"#EF553B\",\"#00cc96\",\"#ab63fa\",\"#FFA15A\",\"#19d3f3\",\"#FF6692\",\"#B6E880\",\"#FF97FF\",\"#FECB52\"],\"font\":{\"color\":\"#2a3f5f\"},\"geo\":{\"bgcolor\":\"white\",\"lakecolor\":\"white\",\"landcolor\":\"#E5ECF6\",\"showlakes\":true,\"showland\":true,\"subunitcolor\":\"white\"},\"hoverlabel\":{\"align\":\"left\"},\"hovermode\":\"closest\",\"mapbox\":{\"style\":\"light\"},\"paper_bgcolor\":\"white\",\"plot_bgcolor\":\"#E5ECF6\",\"polar\":{\"angularaxis\":{\"gridcolor\":\"white\",\"linecolor\":\"white\",\"ticks\":\"\"},\"bgcolor\":\"#E5ECF6\",\"radialaxis\":{\"gridcolor\":\"white\",\"linecolor\":\"white\",\"ticks\":\"\"}},\"scene\":{\"xaxis\":{\"backgroundcolor\":\"#E5ECF6\",\"gridcolor\":\"white\",\"gridwidth\":2,\"linecolor\":\"white\",\"showbackground\":true,\"ticks\":\"\",\"zerolinecolor\":\"white\"},\"yaxis\":{\"backgroundcolor\":\"#E5ECF6\",\"gridcolor\":\"white\",\"gridwidth\":2,\"linecolor\":\"white\",\"showbackground\":true,\"ticks\":\"\",\"zerolinecolor\":\"white\"},\"zaxis\":{\"backgroundcolor\":\"#E5ECF6\",\"gridcolor\":\"white\",\"gridwidth\":2,\"linecolor\":\"white\",\"showbackground\":true,\"ticks\":\"\",\"zerolinecolor\":\"white\"}},\"shapedefaults\":{\"line\":{\"color\":\"#2a3f5f\"}},\"ternary\":{\"aaxis\":{\"gridcolor\":\"white\",\"linecolor\":\"white\",\"ticks\":\"\"},\"baxis\":{\"gridcolor\":\"white\",\"linecolor\":\"white\",\"ticks\":\"\"},\"bgcolor\":\"#E5ECF6\",\"caxis\":{\"gridcolor\":\"white\",\"linecolor\":\"white\",\"ticks\":\"\"}},\"title\":{\"x\":0.05},\"xaxis\":{\"automargin\":true,\"gridcolor\":\"white\",\"linecolor\":\"white\",\"ticks\":\"\",\"title\":{\"standoff\":15},\"zerolinecolor\":\"white\",\"zerolinewidth\":2},\"yaxis\":{\"automargin\":true,\"gridcolor\":\"white\",\"linecolor\":\"white\",\"ticks\":\"\",\"title\":{\"standoff\":15},\"zerolinecolor\":\"white\",\"zerolinewidth\":2}}}},                        {\"responsive\": true}                    ).then(function(){\n",
              "                            \n",
              "var gd = document.getElementById('2e837393-dc98-43f3-a309-f6911259b731');\n",
              "var x = new MutationObserver(function (mutations, observer) {{\n",
              "        var display = window.getComputedStyle(gd).display;\n",
              "        if (!display || display === 'none') {{\n",
              "            console.log([gd, 'removed!']);\n",
              "            Plotly.purge(gd);\n",
              "            observer.disconnect();\n",
              "        }}\n",
              "}});\n",
              "\n",
              "// Listen for the removal of the full notebook cells\n",
              "var notebookContainer = gd.closest('#notebook-container');\n",
              "if (notebookContainer) {{\n",
              "    x.observe(notebookContainer, {childList: true});\n",
              "}}\n",
              "\n",
              "// Listen for the clearing of the current output cell\n",
              "var outputEl = gd.closest('.output');\n",
              "if (outputEl) {{\n",
              "    x.observe(outputEl, {childList: true});\n",
              "}}\n",
              "\n",
              "                        })                };                            </script>        </div>\n",
              "</body>\n",
              "</html>"
            ]
          },
          "metadata": {}
        }
      ]
    },
    {
      "cell_type": "markdown",
      "source": [
        "# Cleanup the Data Before Exporting\n",
        "\n"
      ],
      "metadata": {
        "id": "7lMdc_M854bz"
      }
    },
    {
      "cell_type": "code",
      "metadata": {
        "id": "C4AL9daeqtR0"
      },
      "source": [
        "zero_pages = df_gsc_stat.loc[df_gsc_stat['traffic_range'] == '0']\n",
        "del zero_pages['top_ten_links_percentage_all_traffic']\n",
        "del zero_pages['no_pages']\n",
        "top_ten_with_keywords = pd.merge(top_ten,df_gsc, on=\"page\", how=\"left\")\n",
        "top_ten_with_keywords['keyword_percent_traffic'] = round(top_ten_with_keywords['clicks'] / top_ten_with_keywords ['total_clicks_page_y'] * 100, 2)\n",
        "top_ten_with_keywords = top_ten_with_keywords[[\"check_date\", \"page\", \"query\", \"clicks\", \"keyword_percent_traffic\", \"impressions\", \"ctr\", \"position\", \"traffic_range\"]]\n",
        "top_ten_with_keywords['all_page_traffic'] = top_ten_with_keywords['clicks'].groupby(top_ten_with_keywords['page']).transform('sum')\n",
        "top_ten_with_keywords.sort_values([\"all_page_traffic\", \"clicks\"], ascending=[False, False], inplace=True,)"
      ],
      "execution_count": null,
      "outputs": []
    },
    {
      "cell_type": "markdown",
      "metadata": {
        "id": "U3d_nJ6bTbju"
      },
      "source": [
        "# Download All Pages"
      ]
    },
    {
      "cell_type": "code",
      "source": [
        "def dfs_tabs(df_list, sheet_list, file_name):\n",
        "    writer = pd.ExcelWriter(file_name,engine='xlsxwriter')   \n",
        "    for dataframe, sheet in zip(df_list, sheet_list):\n",
        "        dataframe.to_excel(writer, sheet_name=sheet, startrow=0 , startcol=0, index=False)   \n",
        "    writer.save()\n",
        "\n",
        "# list of dataframes and sheet names\n",
        "dfs = [top_ten, top_ten_with_keywords, zero_pages, df_gsc_stat]\n",
        "sheets = ['Top Ten Pages by Clicks','Top Ten Pages by Clicks + KWs', 'Zero Traffic Pages', 'All Pages',]    \n",
        "\n",
        "# run function\n",
        "dfs_tabs(dfs, sheets, 'top_pages.xlsx')\n",
        "files.download('top_pages.xlsx')"
      ],
      "metadata": {
        "colab": {
          "base_uri": "https://localhost:8080/",
          "height": 17
        },
        "id": "EYcatEbX1JiU",
        "outputId": "9a70546a-c80d-42ec-aca2-6735cc2382bf"
      },
      "execution_count": null,
      "outputs": [
        {
          "output_type": "display_data",
          "data": {
            "text/plain": [
              "<IPython.core.display.Javascript object>"
            ],
            "application/javascript": [
              "\n",
              "    async function download(id, filename, size) {\n",
              "      if (!google.colab.kernel.accessAllowed) {\n",
              "        return;\n",
              "      }\n",
              "      const div = document.createElement('div');\n",
              "      const label = document.createElement('label');\n",
              "      label.textContent = `Downloading \"${filename}\": `;\n",
              "      div.appendChild(label);\n",
              "      const progress = document.createElement('progress');\n",
              "      progress.max = size;\n",
              "      div.appendChild(progress);\n",
              "      document.body.appendChild(div);\n",
              "\n",
              "      const buffers = [];\n",
              "      let downloaded = 0;\n",
              "\n",
              "      const channel = await google.colab.kernel.comms.open(id);\n",
              "      // Send a message to notify the kernel that we're ready.\n",
              "      channel.send({})\n",
              "\n",
              "      for await (const message of channel.messages) {\n",
              "        // Send a message to notify the kernel that we're ready.\n",
              "        channel.send({})\n",
              "        if (message.buffers) {\n",
              "          for (const buffer of message.buffers) {\n",
              "            buffers.push(buffer);\n",
              "            downloaded += buffer.byteLength;\n",
              "            progress.value = downloaded;\n",
              "          }\n",
              "        }\n",
              "      }\n",
              "      const blob = new Blob(buffers, {type: 'application/binary'});\n",
              "      const a = document.createElement('a');\n",
              "      a.href = window.URL.createObjectURL(blob);\n",
              "      a.download = filename;\n",
              "      div.appendChild(a);\n",
              "      a.click();\n",
              "      div.remove();\n",
              "    }\n",
              "  "
            ]
          },
          "metadata": {}
        },
        {
          "output_type": "display_data",
          "data": {
            "text/plain": [
              "<IPython.core.display.Javascript object>"
            ],
            "application/javascript": [
              "download(\"download_af24d9c2-3a58-4308-83f3-26cd63a5f448\", \"top_pages.xlsx\", 479119)"
            ]
          },
          "metadata": {}
        }
      ]
    }
  ]
}