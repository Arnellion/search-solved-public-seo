{
  "nbformat": 4,
  "nbformat_minor": 0,
  "metadata": {
    "colab": {
      "name": "Visualise Links Screaming Frog.ipynb",
      "provenance": [],
      "collapsed_sections": [],
      "authorship_tag": "ABX9TyPqCfKSwMp99R35MQFOUY60",
      "include_colab_link": true
    },
    "kernelspec": {
      "name": "python3",
      "display_name": "Python 3"
    },
    "language_info": {
      "name": "python"
    }
  },
  "cells": [
    {
      "cell_type": "markdown",
      "metadata": {
        "id": "view-in-github",
        "colab_type": "text"
      },
      "source": [
        "<a href=\"https://colab.research.google.com/github/searchsolved/search-solved-public-seo/blob/main/visualise_links_screaming_frog/visualise_links_screaming_frog.ipynb\" target=\"_parent\"><img src=\"https://colab.research.google.com/assets/colab-badge.svg\" alt=\"Open In Colab\"/></a>"
      ]
    },
    {
      "cell_type": "markdown",
      "metadata": {
        "id": "9zI6__uY6j2h"
      },
      "source": [
        "### Script by @LeeFootSEO\n",
        "**Early Access To Apps & Feature Requests:** https://www.patreon.com/leefootseo\n",
        "\n",
        "**Buy me a Coffee:** https://www.buymeacoffee.com/leefootseo\n",
        "\n",
        "# Visualise Internal Linking Structure with Treemaps\n",
        "https://twitter.com/LeeFootSEO <--- Follow for more scripts like this.\n",
        "\n",
        "## File Formats (CSV Exports Only!)\n",
        "*   Screaming Frog Crawl Export\n",
        "*   ahrefs.com Backlinks Report\n",
        "*   Search Console Internal Links Report\n",
        "*   Search Console External Links Report\n",
        "\n",
        "# How to use:\n",
        "Run all cells and upload a csv export from either screaming frog, ahrefs, or search console to visualise internal or external links to different section of your Website."
      ]
    },
    {
      "cell_type": "code",
      "metadata": {
        "id": "O3A5MhRuwEwW"
      },
      "source": [
        "!pip install pandas\n",
        "!pip install pip install plotly==5.0.0"
      ],
      "execution_count": null,
      "outputs": []
    },
    {
      "cell_type": "code",
      "metadata": {
        "id": "GAhTVRxUwVl2"
      },
      "source": [
        "import pandas as pd\n",
        "import urllib.parse as urlparse\n",
        "import plotly.express as px\n",
        "import io\n",
        "from google.colab import files"
      ],
      "execution_count": null,
      "outputs": []
    },
    {
      "cell_type": "markdown",
      "metadata": {
        "id": "IIrtY69DjthP"
      },
      "source": [
        "# Upload a .csv file in the next cell"
      ]
    },
    {
      "cell_type": "code",
      "metadata": {
        "id": "dKM-mkFywzED"
      },
      "source": [
        "# upload the Screaming Frog crawl File (internal_html.csv)\n",
        "uploaded = files.upload()"
      ],
      "execution_count": null,
      "outputs": []
    },
    {
      "cell_type": "code",
      "metadata": {
        "id": "cZq-5WXGyQYB"
      },
      "source": [
        "filename = list(uploaded.keys())[0]\n",
        "df = pd.read_csv(io.StringIO(uploaded[filename].decode('utf-8', errors='ignore')))\n",
        "print(\"Imported Crawl File ..\")"
      ],
      "execution_count": null,
      "outputs": []
    },
    {
      "cell_type": "code",
      "metadata": {
        "id": "BNBSIq054vtW"
      },
      "source": [
        "df.rename(columns={\"Target page\": \"Address\", \"Internal links\": \"Inlinks\", \"Target Page\":\"Address\", \"Linking Sites\": \"Inlinks\", \"Link URL\": \"Address\", \"Referring Domains\": \"Inlinks\"}, inplace=True)\n",
        "print(df)"
      ],
      "execution_count": null,
      "outputs": []
    },
    {
      "cell_type": "code",
      "metadata": {
        "id": "RgyVkWzIyIlX"
      },
      "source": [
        "try:\n",
        "  df = df[~df[\"Indexability\"].isin([\"Non-Indexable\"])]\n",
        "  print(\"Dropped Non-Indexable Rows\")\n",
        "except Exception:\n",
        "  pass\n",
        "  print(\"Indexability Column Not Found - Unable to Drop Non-Indexable Pages!\")\n",
        "print(df)"
      ],
      "execution_count": null,
      "outputs": []
    },
    {
      "cell_type": "code",
      "metadata": {
        "id": "EcKkOwJGy1uT"
      },
      "source": [
        "df['protocol'],df['domain'],df['path'],df['query'],df['fragment'] = zip(*df['Address'].map(urlparse.urlsplit))"
      ],
      "execution_count": null,
      "outputs": []
    },
    {
      "cell_type": "code",
      "metadata": {
        "id": "AJpxPbm12SxY"
      },
      "source": [
        "# make temp df to split with expand=true and then merge back by the index.\n",
        "df2 = df['path'].str.split('/', expand=True)\n",
        "df = pd.merge(df, df2, left_index=True, right_index=True)"
      ],
      "execution_count": null,
      "outputs": []
    },
    {
      "cell_type": "code",
      "metadata": {
        "id": "hvge5R-W06xx"
      },
      "source": [
        "fig = px.treemap(df, path=[1, 'Address'], values='Inlinks')"
      ],
      "execution_count": null,
      "outputs": []
    },
    {
      "cell_type": "code",
      "metadata": {
        "id": "nrd3m9Bv2gAC"
      },
      "source": [
        "fig.show()"
      ],
      "execution_count": null,
      "outputs": []
    },
    {
      "cell_type": "code",
      "metadata": {
        "id": "fHVmwADw22Xe"
      },
      "source": [
        "fig.write_html(\"internal_links_treemap.html\")\n",
        "files.download(\"internal_links_treemap.html\")"
      ],
      "execution_count": null,
      "outputs": []
    }
  ]
}